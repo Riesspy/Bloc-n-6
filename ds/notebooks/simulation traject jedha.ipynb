{
 "cells": [
  {
   "cell_type": "markdown",
   "metadata": {},
   "source": [
    "https://openrouteservice-py.readthedocs.io/en/latest/openrouteservice.html"
   ]
  },
  {
   "cell_type": "markdown",
   "metadata": {},
   "source": [
    "# Simple `openrouteservice-py` examples\n",
    "\n",
    "This notebook is just a small reference on how to use `openrouteservice` package to request:\n",
    "- [directions](https://openrouteservice.org/dev)\n",
    "- [isochrones](https://openrouteservice.org/dev/#/api-docs/v2/isochrones/{profile}/post)\n",
    "- [matrix](https://openrouteservice.org/dev/#/api-docs/v2/matrix/{profile}/post)\n",
    "- [POIs](https://openrouteservice.org/dev/#/api-docs/pois/post)\n",
    "- [Elevation](https://openrouteservice.org/dev/#/api-docs/elevation/line/post)\n",
    "- [Route Optimization](https://openrouteservice.org/dev/#/api-docs/optimization/post)"
   ]
  },
  {
   "cell_type": "code",
   "execution_count": 1,
   "metadata": {},
   "outputs": [],
   "source": [
    "#pip install folium"
   ]
  },
  {
   "cell_type": "code",
   "execution_count": 2,
   "metadata": {},
   "outputs": [],
   "source": [
    "import openrouteservice as ors\n",
    "import folium\n",
    "\n",
    "client = ors.Client(key='5b3ce3597851110001cf62485169f9e2d05c419eaf0607fe2b5b0bfa')"
   ]
  },
  {
   "cell_type": "markdown",
   "metadata": {},
   "source": [
    "## TOC\n",
    "\n",
    "- **[Directions](#Directions)**\n",
    "- **[Isochrones](#Isochrones)**\n",
    "- **[Matrix](#Matrix)**\n",
    "- **[POIs](#POIs)**\n",
    "- **[Geocoding](#Geocoding)**\n",
    "- **[Elevation](#Elevation)**\n",
    "- **[Optimization](#Optimization)**"
   ]
  },
  {
   "cell_type": "markdown",
   "metadata": {},
   "source": [
    "## Directions"
   ]
  },
  {
   "cell_type": "code",
   "execution_count": 3,
   "metadata": {},
   "outputs": [
    {
     "data": {
      "text/html": [
       "<div style=\"width:100%;\"><div style=\"position:relative;width:100%;height:0;padding-bottom:60%;\"><span style=\"color:#565656\">Make this Notebook Trusted to load map: File -> Trust Notebook</span><iframe src=\"about:blank\" style=\"position:absolute;width:100%;height:100%;left:0;top:0;border:none !important;\" data-html=%3C%21DOCTYPE%20html%3E%0A%3Chead%3E%20%20%20%20%0A%20%20%20%20%3Cmeta%20http-equiv%3D%22content-type%22%20content%3D%22text/html%3B%20charset%3DUTF-8%22%20/%3E%0A%20%20%20%20%0A%20%20%20%20%20%20%20%20%3Cscript%3E%0A%20%20%20%20%20%20%20%20%20%20%20%20L_NO_TOUCH%20%3D%20false%3B%0A%20%20%20%20%20%20%20%20%20%20%20%20L_DISABLE_3D%20%3D%20false%3B%0A%20%20%20%20%20%20%20%20%3C/script%3E%0A%20%20%20%20%0A%20%20%20%20%3Cstyle%3Ehtml%2C%20body%20%7Bwidth%3A%20100%25%3Bheight%3A%20100%25%3Bmargin%3A%200%3Bpadding%3A%200%3B%7D%3C/style%3E%0A%20%20%20%20%3Cstyle%3E%23map%20%7Bposition%3Aabsolute%3Btop%3A0%3Bbottom%3A0%3Bright%3A0%3Bleft%3A0%3B%7D%3C/style%3E%0A%20%20%20%20%3Cscript%20src%3D%22https%3A//cdn.jsdelivr.net/npm/leaflet%401.6.0/dist/leaflet.js%22%3E%3C/script%3E%0A%20%20%20%20%3Cscript%20src%3D%22https%3A//code.jquery.com/jquery-1.12.4.min.js%22%3E%3C/script%3E%0A%20%20%20%20%3Cscript%20src%3D%22https%3A//maxcdn.bootstrapcdn.com/bootstrap/3.2.0/js/bootstrap.min.js%22%3E%3C/script%3E%0A%20%20%20%20%3Cscript%20src%3D%22https%3A//cdnjs.cloudflare.com/ajax/libs/Leaflet.awesome-markers/2.0.2/leaflet.awesome-markers.js%22%3E%3C/script%3E%0A%20%20%20%20%3Clink%20rel%3D%22stylesheet%22%20href%3D%22https%3A//cdn.jsdelivr.net/npm/leaflet%401.6.0/dist/leaflet.css%22/%3E%0A%20%20%20%20%3Clink%20rel%3D%22stylesheet%22%20href%3D%22https%3A//maxcdn.bootstrapcdn.com/bootstrap/3.2.0/css/bootstrap.min.css%22/%3E%0A%20%20%20%20%3Clink%20rel%3D%22stylesheet%22%20href%3D%22https%3A//maxcdn.bootstrapcdn.com/bootstrap/3.2.0/css/bootstrap-theme.min.css%22/%3E%0A%20%20%20%20%3Clink%20rel%3D%22stylesheet%22%20href%3D%22https%3A//maxcdn.bootstrapcdn.com/font-awesome/4.6.3/css/font-awesome.min.css%22/%3E%0A%20%20%20%20%3Clink%20rel%3D%22stylesheet%22%20href%3D%22https%3A//cdnjs.cloudflare.com/ajax/libs/Leaflet.awesome-markers/2.0.2/leaflet.awesome-markers.css%22/%3E%0A%20%20%20%20%3Clink%20rel%3D%22stylesheet%22%20href%3D%22https%3A//cdn.jsdelivr.net/gh/python-visualization/folium/folium/templates/leaflet.awesome.rotate.min.css%22/%3E%0A%20%20%20%20%0A%20%20%20%20%20%20%20%20%20%20%20%20%3Cmeta%20name%3D%22viewport%22%20content%3D%22width%3Ddevice-width%2C%0A%20%20%20%20%20%20%20%20%20%20%20%20%20%20%20%20initial-scale%3D1.0%2C%20maximum-scale%3D1.0%2C%20user-scalable%3Dno%22%20/%3E%0A%20%20%20%20%20%20%20%20%20%20%20%20%3Cstyle%3E%0A%20%20%20%20%20%20%20%20%20%20%20%20%20%20%20%20%23map_72f9299e918d4f90b3836020c959fc05%20%7B%0A%20%20%20%20%20%20%20%20%20%20%20%20%20%20%20%20%20%20%20%20position%3A%20relative%3B%0A%20%20%20%20%20%20%20%20%20%20%20%20%20%20%20%20%20%20%20%20width%3A%20100.0%25%3B%0A%20%20%20%20%20%20%20%20%20%20%20%20%20%20%20%20%20%20%20%20height%3A%20100.0%25%3B%0A%20%20%20%20%20%20%20%20%20%20%20%20%20%20%20%20%20%20%20%20left%3A%200.0%25%3B%0A%20%20%20%20%20%20%20%20%20%20%20%20%20%20%20%20%20%20%20%20top%3A%200.0%25%3B%0A%20%20%20%20%20%20%20%20%20%20%20%20%20%20%20%20%7D%0A%20%20%20%20%20%20%20%20%20%20%20%20%3C/style%3E%0A%20%20%20%20%20%20%20%20%0A%3C/head%3E%0A%3Cbody%3E%20%20%20%20%0A%20%20%20%20%0A%20%20%20%20%20%20%20%20%20%20%20%20%3Cdiv%20class%3D%22folium-map%22%20id%3D%22map_72f9299e918d4f90b3836020c959fc05%22%20%3E%3C/div%3E%0A%20%20%20%20%20%20%20%20%0A%3C/body%3E%0A%3Cscript%3E%20%20%20%20%0A%20%20%20%20%0A%20%20%20%20%20%20%20%20%20%20%20%20var%20map_72f9299e918d4f90b3836020c959fc05%20%3D%20L.map%28%0A%20%20%20%20%20%20%20%20%20%20%20%20%20%20%20%20%22map_72f9299e918d4f90b3836020c959fc05%22%2C%0A%20%20%20%20%20%20%20%20%20%20%20%20%20%20%20%20%7B%0A%20%20%20%20%20%20%20%20%20%20%20%20%20%20%20%20%20%20%20%20center%3A%20%5B48.862%2C%202.346%5D%2C%0A%20%20%20%20%20%20%20%20%20%20%20%20%20%20%20%20%20%20%20%20crs%3A%20L.CRS.EPSG3857%2C%0A%20%20%20%20%20%20%20%20%20%20%20%20%20%20%20%20%20%20%20%20zoom%3A%2013%2C%0A%20%20%20%20%20%20%20%20%20%20%20%20%20%20%20%20%20%20%20%20zoomControl%3A%20true%2C%0A%20%20%20%20%20%20%20%20%20%20%20%20%20%20%20%20%20%20%20%20preferCanvas%3A%20false%2C%0A%20%20%20%20%20%20%20%20%20%20%20%20%20%20%20%20%7D%0A%20%20%20%20%20%20%20%20%20%20%20%20%29%3B%0A%0A%20%20%20%20%20%20%20%20%20%20%20%20%0A%0A%20%20%20%20%20%20%20%20%0A%20%20%20%20%0A%20%20%20%20%20%20%20%20%20%20%20%20var%20tile_layer_7d76f9aea4d7431ba8915ee8842c3fc5%20%3D%20L.tileLayer%28%0A%20%20%20%20%20%20%20%20%20%20%20%20%20%20%20%20%22https%3A//cartodb-basemaps-%7Bs%7D.global.ssl.fastly.net/light_all/%7Bz%7D/%7Bx%7D/%7By%7D.png%22%2C%0A%20%20%20%20%20%20%20%20%20%20%20%20%20%20%20%20%7B%22attribution%22%3A%20%22%5Cu0026copy%3B%20%5Cu003ca%20href%3D%5C%22http%3A//www.openstreetmap.org/copyright%5C%22%5Cu003eOpenStreetMap%5Cu003c/a%5Cu003e%20contributors%20%5Cu0026copy%3B%20%5Cu003ca%20href%3D%5C%22http%3A//cartodb.com/attributions%5C%22%5Cu003eCartoDB%5Cu003c/a%5Cu003e%2C%20CartoDB%20%5Cu003ca%20href%20%3D%5C%22http%3A//cartodb.com/attributions%5C%22%5Cu003eattributions%5Cu003c/a%5Cu003e%22%2C%20%22detectRetina%22%3A%20false%2C%20%22maxNativeZoom%22%3A%2018%2C%20%22maxZoom%22%3A%2018%2C%20%22minZoom%22%3A%200%2C%20%22noWrap%22%3A%20false%2C%20%22opacity%22%3A%201%2C%20%22subdomains%22%3A%20%22abc%22%2C%20%22tms%22%3A%20false%7D%0A%20%20%20%20%20%20%20%20%20%20%20%20%29.addTo%28map_72f9299e918d4f90b3836020c959fc05%29%3B%0A%20%20%20%20%20%20%20%20%0A%3C/script%3E onload=\"this.contentDocument.open();this.contentDocument.write(    decodeURIComponent(this.getAttribute('data-html')));this.contentDocument.close();\" allowfullscreen webkitallowfullscreen mozallowfullscreen></iframe></div></div>"
      ],
      "text/plain": [
       "<folium.folium.Map at 0x7fb2e5de7a60>"
      ]
     },
     "execution_count": 3,
     "metadata": {},
     "output_type": "execute_result"
    }
   ],
   "source": [
    "#localisation Paris\n",
    "m = folium.Map(location=[48.862, 2.346], tiles='cartodbpositron', zoom_start=13)\n",
    "\n",
    "m"
   ]
  },
  {
   "cell_type": "code",
   "execution_count": 5,
   "metadata": {},
   "outputs": [
    {
     "data": {
      "text/html": [
       "<div style=\"width:100%;\"><div style=\"position:relative;width:100%;height:0;padding-bottom:60%;\"><span style=\"color:#565656\">Make this Notebook Trusted to load map: File -> Trust Notebook</span><iframe src=\"about:blank\" style=\"position:absolute;width:100%;height:100%;left:0;top:0;border:none !important;\" data-html=%3C%21DOCTYPE%20html%3E%0A%3Chead%3E%20%20%20%20%0A%20%20%20%20%3Cmeta%20http-equiv%3D%22content-type%22%20content%3D%22text/html%3B%20charset%3DUTF-8%22%20/%3E%0A%20%20%20%20%0A%20%20%20%20%20%20%20%20%3Cscript%3E%0A%20%20%20%20%20%20%20%20%20%20%20%20L_NO_TOUCH%20%3D%20false%3B%0A%20%20%20%20%20%20%20%20%20%20%20%20L_DISABLE_3D%20%3D%20false%3B%0A%20%20%20%20%20%20%20%20%3C/script%3E%0A%20%20%20%20%0A%20%20%20%20%3Cstyle%3Ehtml%2C%20body%20%7Bwidth%3A%20100%25%3Bheight%3A%20100%25%3Bmargin%3A%200%3Bpadding%3A%200%3B%7D%3C/style%3E%0A%20%20%20%20%3Cstyle%3E%23map%20%7Bposition%3Aabsolute%3Btop%3A0%3Bbottom%3A0%3Bright%3A0%3Bleft%3A0%3B%7D%3C/style%3E%0A%20%20%20%20%3Cscript%20src%3D%22https%3A//cdn.jsdelivr.net/npm/leaflet%401.6.0/dist/leaflet.js%22%3E%3C/script%3E%0A%20%20%20%20%3Cscript%20src%3D%22https%3A//code.jquery.com/jquery-1.12.4.min.js%22%3E%3C/script%3E%0A%20%20%20%20%3Cscript%20src%3D%22https%3A//maxcdn.bootstrapcdn.com/bootstrap/3.2.0/js/bootstrap.min.js%22%3E%3C/script%3E%0A%20%20%20%20%3Cscript%20src%3D%22https%3A//cdnjs.cloudflare.com/ajax/libs/Leaflet.awesome-markers/2.0.2/leaflet.awesome-markers.js%22%3E%3C/script%3E%0A%20%20%20%20%3Clink%20rel%3D%22stylesheet%22%20href%3D%22https%3A//cdn.jsdelivr.net/npm/leaflet%401.6.0/dist/leaflet.css%22/%3E%0A%20%20%20%20%3Clink%20rel%3D%22stylesheet%22%20href%3D%22https%3A//maxcdn.bootstrapcdn.com/bootstrap/3.2.0/css/bootstrap.min.css%22/%3E%0A%20%20%20%20%3Clink%20rel%3D%22stylesheet%22%20href%3D%22https%3A//maxcdn.bootstrapcdn.com/bootstrap/3.2.0/css/bootstrap-theme.min.css%22/%3E%0A%20%20%20%20%3Clink%20rel%3D%22stylesheet%22%20href%3D%22https%3A//maxcdn.bootstrapcdn.com/font-awesome/4.6.3/css/font-awesome.min.css%22/%3E%0A%20%20%20%20%3Clink%20rel%3D%22stylesheet%22%20href%3D%22https%3A//cdnjs.cloudflare.com/ajax/libs/Leaflet.awesome-markers/2.0.2/leaflet.awesome-markers.css%22/%3E%0A%20%20%20%20%3Clink%20rel%3D%22stylesheet%22%20href%3D%22https%3A//cdn.jsdelivr.net/gh/python-visualization/folium/folium/templates/leaflet.awesome.rotate.min.css%22/%3E%0A%20%20%20%20%0A%20%20%20%20%20%20%20%20%20%20%20%20%3Cmeta%20name%3D%22viewport%22%20content%3D%22width%3Ddevice-width%2C%0A%20%20%20%20%20%20%20%20%20%20%20%20%20%20%20%20initial-scale%3D1.0%2C%20maximum-scale%3D1.0%2C%20user-scalable%3Dno%22%20/%3E%0A%20%20%20%20%20%20%20%20%20%20%20%20%3Cstyle%3E%0A%20%20%20%20%20%20%20%20%20%20%20%20%20%20%20%20%23map_7a822f3fb20148ce8e3056d654819857%20%7B%0A%20%20%20%20%20%20%20%20%20%20%20%20%20%20%20%20%20%20%20%20position%3A%20relative%3B%0A%20%20%20%20%20%20%20%20%20%20%20%20%20%20%20%20%20%20%20%20width%3A%20100.0%25%3B%0A%20%20%20%20%20%20%20%20%20%20%20%20%20%20%20%20%20%20%20%20height%3A%20100.0%25%3B%0A%20%20%20%20%20%20%20%20%20%20%20%20%20%20%20%20%20%20%20%20left%3A%200.0%25%3B%0A%20%20%20%20%20%20%20%20%20%20%20%20%20%20%20%20%20%20%20%20top%3A%200.0%25%3B%0A%20%20%20%20%20%20%20%20%20%20%20%20%20%20%20%20%7D%0A%20%20%20%20%20%20%20%20%20%20%20%20%3C/style%3E%0A%20%20%20%20%20%20%20%20%0A%3C/head%3E%0A%3Cbody%3E%20%20%20%20%0A%20%20%20%20%0A%20%20%20%20%20%20%20%20%20%20%20%20%3Cdiv%20class%3D%22folium-map%22%20id%3D%22map_7a822f3fb20148ce8e3056d654819857%22%20%3E%3C/div%3E%0A%20%20%20%20%20%20%20%20%0A%3C/body%3E%0A%3Cscript%3E%20%20%20%20%0A%20%20%20%20%0A%20%20%20%20%20%20%20%20%20%20%20%20var%20map_7a822f3fb20148ce8e3056d654819857%20%3D%20L.map%28%0A%20%20%20%20%20%20%20%20%20%20%20%20%20%20%20%20%22map_7a822f3fb20148ce8e3056d654819857%22%2C%0A%20%20%20%20%20%20%20%20%20%20%20%20%20%20%20%20%7B%0A%20%20%20%20%20%20%20%20%20%20%20%20%20%20%20%20%20%20%20%20center%3A%20%5B48.862%2C%202.346%5D%2C%0A%20%20%20%20%20%20%20%20%20%20%20%20%20%20%20%20%20%20%20%20crs%3A%20L.CRS.EPSG3857%2C%0A%20%20%20%20%20%20%20%20%20%20%20%20%20%20%20%20%20%20%20%20zoom%3A%2013%2C%0A%20%20%20%20%20%20%20%20%20%20%20%20%20%20%20%20%20%20%20%20zoomControl%3A%20true%2C%0A%20%20%20%20%20%20%20%20%20%20%20%20%20%20%20%20%20%20%20%20preferCanvas%3A%20false%2C%0A%20%20%20%20%20%20%20%20%20%20%20%20%20%20%20%20%7D%0A%20%20%20%20%20%20%20%20%20%20%20%20%29%3B%0A%0A%20%20%20%20%20%20%20%20%20%20%20%20%0A%0A%20%20%20%20%20%20%20%20%0A%20%20%20%20%0A%20%20%20%20%20%20%20%20%20%20%20%20var%20tile_layer_d363be1859524ef5a58274a3771a4941%20%3D%20L.tileLayer%28%0A%20%20%20%20%20%20%20%20%20%20%20%20%20%20%20%20%22https%3A//cartodb-basemaps-%7Bs%7D.global.ssl.fastly.net/light_all/%7Bz%7D/%7Bx%7D/%7By%7D.png%22%2C%0A%20%20%20%20%20%20%20%20%20%20%20%20%20%20%20%20%7B%22attribution%22%3A%20%22%5Cu0026copy%3B%20%5Cu003ca%20href%3D%5C%22http%3A//www.openstreetmap.org/copyright%5C%22%5Cu003eOpenStreetMap%5Cu003c/a%5Cu003e%20contributors%20%5Cu0026copy%3B%20%5Cu003ca%20href%3D%5C%22http%3A//cartodb.com/attributions%5C%22%5Cu003eCartoDB%5Cu003c/a%5Cu003e%2C%20CartoDB%20%5Cu003ca%20href%20%3D%5C%22http%3A//cartodb.com/attributions%5C%22%5Cu003eattributions%5Cu003c/a%5Cu003e%22%2C%20%22detectRetina%22%3A%20false%2C%20%22maxNativeZoom%22%3A%2018%2C%20%22maxZoom%22%3A%2018%2C%20%22minZoom%22%3A%200%2C%20%22noWrap%22%3A%20false%2C%20%22opacity%22%3A%201%2C%20%22subdomains%22%3A%20%22abc%22%2C%20%22tms%22%3A%20false%7D%0A%20%20%20%20%20%20%20%20%20%20%20%20%29.addTo%28map_7a822f3fb20148ce8e3056d654819857%29%3B%0A%20%20%20%20%20%20%20%20%0A%20%20%20%20%0A%20%20%20%20%20%20%20%20%20%20%20%20var%20poly_line_d90a8807fbcc4092b69d3b6b90b8e27e%20%3D%20L.polyline%28%0A%20%20%20%20%20%20%20%20%20%20%20%20%20%20%20%20%5B%5B48.861006%2C%202.36686%5D%2C%20%5B48.861313%2C%202.364678%5D%2C%20%5B48.861326%2C%202.364594%5D%2C%20%5B48.861389%2C%202.364598%5D%2C%20%5B48.861487%2C%202.364603%5D%2C%20%5B48.861528%2C%202.364699%5D%2C%20%5B48.861724%2C%202.365158%5D%2C%20%5B48.861762%2C%202.365248%5D%2C%20%5B48.861804%2C%202.365345%5D%2C%20%5B48.861899%2C%202.365568%5D%2C%20%5B48.862078%2C%202.365988%5D%2C%20%5B48.862382%2C%202.366702%5D%2C%20%5B48.862463%2C%202.366891%5D%2C%20%5B48.862598%2C%202.367196%5D%2C%20%5B48.862611%2C%202.367225%5D%2C%20%5B48.862649%2C%202.367312%5D%2C%20%5B48.862685%2C%202.367404%5D%2C%20%5B48.86298%2C%202.36815%5D%2C%20%5B48.863384%2C%202.369185%5D%2C%20%5B48.863407%2C%202.369245%5D%2C%20%5B48.863437%2C%202.36932%5D%2C%20%5B48.863696%2C%202.369964%5D%2C%20%5B48.863729%2C%202.37004%5D%2C%20%5B48.863027%2C%202.371217%5D%2C%20%5B48.862911%2C%202.371413%5D%2C%20%5B48.862798%2C%202.371602%5D%2C%20%5B48.862697%2C%202.371772%5D%2C%20%5B48.862599%2C%202.371938%5D%2C%20%5B48.862315%2C%202.372417%5D%2C%20%5B48.862237%2C%202.372547%5D%2C%20%5B48.862187%2C%202.372631%5D%2C%20%5B48.862116%2C%202.372751%5D%2C%20%5B48.862052%2C%202.372858%5D%2C%20%5B48.862027%2C%202.372898%5D%2C%20%5B48.861974%2C%202.372981%5D%2C%20%5B48.860966%2C%202.374674%5D%2C%20%5B48.860949%2C%202.374702%5D%2C%20%5B48.860926%2C%202.374742%5D%2C%20%5B48.860727%2C%202.375066%5D%2C%20%5B48.860647%2C%202.375197%5D%2C%20%5B48.860531%2C%202.375392%5D%2C%20%5B48.860484%2C%202.375468%5D%2C%20%5B48.860458%2C%202.37551%5D%2C%20%5B48.859725%2C%202.376768%5D%2C%20%5B48.85937%2C%202.377361%5D%2C%20%5B48.858679%2C%202.378509%5D%2C%20%5B48.85824%2C%202.379264%5D%2C%20%5B48.85787%2C%202.379879%5D%2C%20%5B48.857845%2C%202.379921%5D%2C%20%5B48.857828%2C%202.379911%5D%2C%20%5B48.857798%2C%202.379891%5D%2C%20%5B48.857701%2C%202.379906%5D%2C%20%5B48.857693%2C%202.379922%5D%2C%20%5B48.85764%2C%202.380015%5D%2C%20%5B48.857556%2C%202.380165%5D%2C%20%5B48.857564%2C%202.380364%5D%2C%20%5B48.857569%2C%202.380384%5D%2C%20%5B48.857554%2C%202.380408%5D%2C%20%5B48.857314%2C%202.380796%5D%2C%20%5B48.856641%2C%202.381932%5D%2C%20%5B48.856504%2C%202.382168%5D%2C%20%5B48.85616%2C%202.382741%5D%2C%20%5B48.855854%2C%202.383253%5D%2C%20%5B48.855276%2C%202.384228%5D%2C%20%5B48.854929%2C%202.384809%5D%2C%20%5B48.854681%2C%202.385213%5D%2C%20%5B48.854601%2C%202.385345%5D%2C%20%5B48.853302%2C%202.387522%5D%2C%20%5B48.853242%2C%202.387621%5D%2C%20%5B48.853169%2C%202.387744%5D%2C%20%5B48.852868%2C%202.388247%5D%2C%20%5B48.852844%2C%202.388289%5D%2C%20%5B48.852695%2C%202.388538%5D%2C%20%5B48.852394%2C%202.389044%5D%2C%20%5B48.852281%2C%202.389231%5D%2C%20%5B48.851135%2C%202.391151%5D%2C%20%5B48.850552%2C%202.392128%5D%2C%20%5B48.850515%2C%202.39219%5D%2C%20%5B48.850397%2C%202.392387%5D%2C%20%5B48.85032%2C%202.392518%5D%2C%20%5B48.849116%2C%202.394581%5D%2C%20%5B48.849093%2C%202.394733%5D%2C%20%5B48.848934%2C%202.395001%5D%2C%20%5B48.848855%2C%202.395131%5D%2C%20%5B48.84879%2C%202.395237%5D%2C%20%5B48.848728%2C%202.395162%5D%2C%20%5B48.848619%2C%202.395071%5D%2C%20%5B48.84859%2C%202.395054%5D%2C%20%5B48.848517%2C%202.395021%5D%2C%20%5B48.848403%2C%202.394999%5D%2C%20%5B48.848287%2C%202.39501%5D%2C%20%5B48.848184%2C%202.39505%5D%2C%20%5B48.848087%2C%202.395116%5D%2C%20%5B48.848%2C%202.395206%5D%2C%20%5B48.847932%2C%202.395304%5D%2C%20%5B48.84783%2C%202.395541%5D%2C%20%5B48.847798%2C%202.395674%5D%2C%20%5B48.847781%2C%202.395813%5D%2C%20%5B48.847684%2C%202.395795%5D%2C%20%5B48.847578%2C%202.395775%5D%2C%20%5B48.847443%2C%202.39575%5D%2C%20%5B48.847336%2C%202.39573%5D%2C%20%5B48.847247%2C%202.395709%5D%2C%20%5B48.845713%2C%202.395409%5D%2C%20%5B48.845547%2C%202.395381%5D%2C%20%5B48.845455%2C%202.395367%5D%2C%20%5B48.845292%2C%202.395339%5D%2C%20%5B48.845276%2C%202.395352%5D%2C%20%5B48.845228%2C%202.395392%5D%2C%20%5B48.844972%2C%202.395606%5D%2C%20%5B48.844942%2C%202.395631%5D%2C%20%5B48.84392%2C%202.396485%5D%2C%20%5B48.843826%2C%202.396563%5D%2C%20%5B48.843753%2C%202.396623%5D%2C%20%5B48.843637%2C%202.396718%5D%2C%20%5B48.843421%2C%202.396897%5D%2C%20%5B48.843319%2C%202.396985%5D%2C%20%5B48.842933%2C%202.397303%5D%2C%20%5B48.84277%2C%202.397438%5D%2C%20%5B48.842711%2C%202.397491%5D%2C%20%5B48.842648%2C%202.397545%5D%2C%20%5B48.842473%2C%202.397703%5D%2C%20%5B48.842344%2C%202.397817%5D%2C%20%5B48.842282%2C%202.397868%5D%2C%20%5B48.841249%2C%202.398782%5D%2C%20%5B48.841164%2C%202.398856%5D%2C%20%5B48.841103%2C%202.398909%5D%2C%20%5B48.841036%2C%202.398968%5D%2C%20%5B48.840694%2C%202.399264%5D%2C%20%5B48.840606%2C%202.399339%5D%2C%20%5B48.840502%2C%202.399431%5D%2C%20%5B48.840455%2C%202.399471%5D%2C%20%5B48.839988%2C%202.399877%5D%2C%20%5B48.839889%2C%202.399895%5D%2C%20%5B48.839743%2C%202.399926%5D%2C%20%5B48.839711%2C%202.399935%5D%2C%20%5B48.839642%2C%202.400033%5D%2C%20%5B48.839633%2C%202.400081%5D%2C%20%5B48.839635%2C%202.400141%5D%2C%20%5B48.83965%2C%202.400197%5D%2C%20%5B48.839563%2C%202.400285%5D%2C%20%5B48.839249%2C%202.400605%5D%2C%20%5B48.839192%2C%202.400664%5D%2C%20%5B48.83913%2C%202.400727%5D%2C%20%5B48.83886%2C%202.401017%5D%2C%20%5B48.838829%2C%202.401051%5D%2C%20%5B48.838612%2C%202.401268%5D%2C%20%5B48.837467%2C%202.402203%5D%2C%20%5B48.837358%2C%202.402247%5D%2C%20%5B48.837331%2C%202.402237%5D%2C%20%5B48.837154%2C%202.402172%5D%2C%20%5B48.837026%2C%202.402547%5D%2C%20%5B48.836751%2C%202.403333%5D%2C%20%5B48.836697%2C%202.403487%5D%2C%20%5B48.83665%2C%202.403614%5D%2C%20%5B48.836471%2C%202.404068%5D%2C%20%5B48.835923%2C%202.405565%5D%2C%20%5B48.835896%2C%202.405637%5D%2C%20%5B48.835877%2C%202.405694%5D%2C%20%5B48.835733%2C%202.406065%5D%2C%20%5B48.835702%2C%202.406115%5D%2C%20%5B48.835594%2C%202.406323%5D%2C%20%5B48.835486%2C%202.406434%5D%2C%20%5B48.83544%2C%202.406492%5D%2C%20%5B48.835412%2C%202.406527%5D%2C%20%5B48.83536%2C%202.406596%5D%2C%20%5B48.835304%2C%202.406569%5D%2C%20%5B48.835288%2C%202.406593%5D%2C%20%5B48.835197%2C%202.406855%5D%2C%20%5B48.835177%2C%202.40684%5D%2C%20%5B48.835033%2C%202.407237%5D%2C%20%5B48.8348%2C%202.407877%5D%2C%20%5B48.834775%2C%202.407942%5D%2C%20%5B48.834758%2C%202.407989%5D%2C%20%5B48.834758%2C%202.408%5D%2C%20%5B48.834758%2C%202.408014%5D%2C%20%5B48.834804%2C%202.40812%5D%2C%20%5B48.834816%2C%202.408188%5D%2C%20%5B48.834817%2C%202.408267%5D%2C%20%5B48.83435%2C%202.409537%5D%2C%20%5B48.83405%2C%202.410324%5D%2C%20%5B48.833994%2C%202.410527%5D%2C%20%5B48.833943%2C%202.410758%5D%2C%20%5B48.833916%2C%202.410897%5D%2C%20%5B48.833905%2C%202.411035%5D%2C%20%5B48.833847%2C%202.411462%5D%2C%20%5B48.833757%2C%202.412037%5D%2C%20%5B48.833703%2C%202.412235%5D%2C%20%5B48.833635%2C%202.412502%5D%2C%20%5B48.833568%2C%202.412662%5D%2C%20%5B48.833494%2C%202.412759%5D%2C%20%5B48.833551%2C%202.412849%5D%2C%20%5B48.83363%2C%202.412773%5D%2C%20%5B48.833771%2C%202.412632%5D%2C%20%5B48.833878%2C%202.412627%5D%5D%2C%0A%20%20%20%20%20%20%20%20%20%20%20%20%20%20%20%20%7B%22bubblingMouseEvents%22%3A%20true%2C%20%22color%22%3A%20%22%233388ff%22%2C%20%22dashArray%22%3A%20null%2C%20%22dashOffset%22%3A%20null%2C%20%22fill%22%3A%20false%2C%20%22fillColor%22%3A%20%22%233388ff%22%2C%20%22fillOpacity%22%3A%200.2%2C%20%22fillRule%22%3A%20%22evenodd%22%2C%20%22lineCap%22%3A%20%22round%22%2C%20%22lineJoin%22%3A%20%22round%22%2C%20%22noClip%22%3A%20false%2C%20%22opacity%22%3A%201.0%2C%20%22smoothFactor%22%3A%201.0%2C%20%22stroke%22%3A%20true%2C%20%22weight%22%3A%203%7D%0A%20%20%20%20%20%20%20%20%20%20%20%20%29.addTo%28map_7a822f3fb20148ce8e3056d654819857%29%3B%0A%20%20%20%20%20%20%20%20%0A%3C/script%3E onload=\"this.contentDocument.open();this.contentDocument.write(    decodeURIComponent(this.getAttribute('data-html')));this.contentDocument.close();\" allowfullscreen webkitallowfullscreen mozallowfullscreen></iframe></div></div>"
      ],
      "text/plain": [
       "<folium.folium.Map at 0x7f57a1359340>"
      ]
     },
     "execution_count": 5,
     "metadata": {},
     "output_type": "execute_result"
    }
   ],
   "source": [
    "#localisation Paris\n",
    "m = folium.Map(location=[48.862, 2.346], tiles='cartodbpositron', zoom_start=13)\n",
    "\n",
    "# adress départ (GPS) , 13 Rue du pont aux choux, Paris, France (2.3668617010116577,48.86100925394748)\n",
    "# adresse d'arrivée(GPS) 7 Avenue Daumesnil, Paris,France (2.4125343561172485, 48.83392954811057)\n",
    "\n",
    "coordinates = [[2.3668617010116577,48.86100925394748 ], [2.4125343561172485, 48.83392954811057]]\n",
    "\n",
    "#requete openrouteservice\n",
    "route = client.directions(\n",
    "    coordinates=coordinates,\n",
    "    profile='cycling-regular',\n",
    "    format ='geojson',\n",
    "    units ='km'\n",
    ")\n",
    "folium.PolyLine(locations=[list(reversed(coord)) \n",
    "                           for coord in \n",
    "                           route['features'][0]['geometry']['coordinates']]).add_to(m)\n",
    "    \n",
    "m"
   ]
  },
  {
   "cell_type": "code",
   "execution_count": 6,
   "metadata": {},
   "outputs": [
    {
     "data": {
      "text/plain": [
       "{'type': 'FeatureCollection',\n",
       " 'features': [{'bbox': [2.364594, 48.833494, 2.412849, 48.863729],\n",
       "   'type': 'Feature',\n",
       "   'properties': {'segments': [{'distance': 5.578,\n",
       "      'duration': 1115.6,\n",
       "      'steps': [{'distance': 0.17,\n",
       "        'duration': 33.9,\n",
       "        'type': 11,\n",
       "        'instruction': 'Head west on Rue du Pont aux Choux',\n",
       "        'name': 'Rue du Pont aux Choux',\n",
       "        'way_points': [0, 2]},\n",
       "       {'distance': 0.018,\n",
       "        'duration': 3.6,\n",
       "        'type': 1,\n",
       "        'instruction': 'Turn right onto Rue de Turenne',\n",
       "        'name': 'Rue de Turenne',\n",
       "        'way_points': [2, 4]},\n",
       "       {'distance': 0.47,\n",
       "        'duration': 93.9,\n",
       "        'type': 1,\n",
       "        'instruction': 'Turn right onto Rue Commines',\n",
       "        'name': 'Rue Commines',\n",
       "        'way_points': [4, 22]},\n",
       "       {'distance': 0.154,\n",
       "        'duration': 30.8,\n",
       "        'type': 1,\n",
       "        'instruction': 'Turn right onto Boulevard Voltaire',\n",
       "        'name': 'Boulevard Voltaire',\n",
       "        'way_points': [22, 25]},\n",
       "       {'distance': 0.017,\n",
       "        'duration': 3.4,\n",
       "        'type': 6,\n",
       "        'instruction': 'Continue straight onto Boulevard Voltaire',\n",
       "        'name': 'Boulevard Voltaire',\n",
       "        'way_points': [25, 26]},\n",
       "       {'distance': 0.804,\n",
       "        'duration': 160.8,\n",
       "        'type': 6,\n",
       "        'instruction': 'Continue straight onto Boulevard Voltaire',\n",
       "        'name': 'Boulevard Voltaire',\n",
       "        'way_points': [26, 48]},\n",
       "       {'distance': 0.057,\n",
       "        'duration': 11.5,\n",
       "        'type': 1,\n",
       "        'instruction': 'Turn right onto Place Léon Blum',\n",
       "        'name': 'Place Léon Blum',\n",
       "        'way_points': [48, 56]},\n",
       "       {'distance': 1.412,\n",
       "        'duration': 282.5,\n",
       "        'type': 1,\n",
       "        'instruction': 'Turn right onto Boulevard Voltaire',\n",
       "        'name': 'Boulevard Voltaire',\n",
       "        'way_points': [56, 81]},\n",
       "       {'distance': 0.05,\n",
       "        'duration': 10.0,\n",
       "        'type': 5,\n",
       "        'instruction': 'Turn slight right onto Boulevard Voltaire',\n",
       "        'name': 'Boulevard Voltaire',\n",
       "        'way_points': [81, 84]},\n",
       "       {'distance': 1.103,\n",
       "        'duration': 220.7,\n",
       "        'type': 7,\n",
       "        'instruction': \"Enter the roundabout and take the 5th exit onto Rue Fabre d'Églantine\",\n",
       "        'name': \"Rue Fabre d'Églantine\",\n",
       "        'exit_number': 5,\n",
       "        'way_points': [84, 132]},\n",
       "       {'distance': 0.027,\n",
       "        'duration': 5.5,\n",
       "        'type': 5,\n",
       "        'instruction': 'Turn slight right onto Rue de Picpus',\n",
       "        'name': 'Rue de Picpus',\n",
       "        'way_points': [132, 134]},\n",
       "       {'distance': 0.324,\n",
       "        'duration': 64.7,\n",
       "        'type': 7,\n",
       "        'instruction': 'Enter the roundabout and take the 2nd exit onto Rue de Picpus',\n",
       "        'name': 'Rue de Picpus',\n",
       "        'exit_number': 2,\n",
       "        'way_points': [134, 148]},\n",
       "       {'distance': 0.023,\n",
       "        'duration': 4.7,\n",
       "        'type': 5,\n",
       "        'instruction': 'Turn slight right onto Rue de Picpus',\n",
       "        'name': 'Rue de Picpus',\n",
       "        'way_points': [148, 150]},\n",
       "       {'distance': 0.383,\n",
       "        'duration': 76.6,\n",
       "        'type': 0,\n",
       "        'instruction': 'Turn left onto Avenue Daumesnil',\n",
       "        'name': 'Avenue Daumesnil',\n",
       "        'way_points': [150, 165]},\n",
       "       {'distance': 0.031,\n",
       "        'duration': 6.1,\n",
       "        'type': 1,\n",
       "        'instruction': 'Turn right onto Place Édouard Renard',\n",
       "        'name': 'Place Édouard Renard',\n",
       "        'way_points': [165, 168]},\n",
       "       {'distance': 0.002,\n",
       "        'duration': 0.5,\n",
       "        'type': 1,\n",
       "        'instruction': 'Turn right onto Place Édouard Renard',\n",
       "        'name': 'Place Édouard Renard',\n",
       "        'way_points': [168, 169]},\n",
       "       {'distance': 0.097,\n",
       "        'duration': 19.4,\n",
       "        'type': 0,\n",
       "        'instruction': 'Turn left onto Place Édouard Renard',\n",
       "        'name': 'Place Édouard Renard',\n",
       "        'way_points': [169, 174]},\n",
       "       {'distance': 0.021,\n",
       "        'duration': 4.2,\n",
       "        'type': 6,\n",
       "        'instruction': 'Continue straight onto Place Édouard Renard',\n",
       "        'name': 'Place Édouard Renard',\n",
       "        'way_points': [174, 178]},\n",
       "       {'distance': 0.373,\n",
       "        'duration': 74.7,\n",
       "        'type': 5,\n",
       "        'instruction': 'Turn slight right onto Place Édouard Renard',\n",
       "        'name': 'Place Édouard Renard',\n",
       "        'way_points': [178, 191]},\n",
       "       {'distance': 0.029,\n",
       "        'duration': 5.8,\n",
       "        'type': 0,\n",
       "        'instruction': 'Turn left onto Route de la Ceinture du Lac Daumesnil',\n",
       "        'name': 'Route de la Ceinture du Lac Daumesnil',\n",
       "        'way_points': [191, 193]},\n",
       "       {'distance': 0.012,\n",
       "        'duration': 2.4,\n",
       "        'type': 5,\n",
       "        'instruction': 'Turn slight right onto Avenue Robert-André Vivien',\n",
       "        'name': 'Avenue Robert-André Vivien',\n",
       "        'way_points': [193, 194]},\n",
       "       {'distance': 0.0,\n",
       "        'duration': 0.0,\n",
       "        'type': 10,\n",
       "        'instruction': 'Arrive at Avenue Robert-André Vivien, on the left',\n",
       "        'name': '-',\n",
       "        'way_points': [194, 194]}]}],\n",
       "    'summary': {'distance': 5.578, 'duration': 1115.6},\n",
       "    'way_points': [0, 194]},\n",
       "   'geometry': {'coordinates': [[2.36686, 48.861006],\n",
       "     [2.364678, 48.861313],\n",
       "     [2.364594, 48.861326],\n",
       "     [2.364598, 48.861389],\n",
       "     [2.364603, 48.861487],\n",
       "     [2.364699, 48.861528],\n",
       "     [2.365158, 48.861724],\n",
       "     [2.365248, 48.861762],\n",
       "     [2.365345, 48.861804],\n",
       "     [2.365568, 48.861899],\n",
       "     [2.365988, 48.862078],\n",
       "     [2.366702, 48.862382],\n",
       "     [2.366891, 48.862463],\n",
       "     [2.367196, 48.862598],\n",
       "     [2.367225, 48.862611],\n",
       "     [2.367312, 48.862649],\n",
       "     [2.367404, 48.862685],\n",
       "     [2.36815, 48.86298],\n",
       "     [2.369185, 48.863384],\n",
       "     [2.369245, 48.863407],\n",
       "     [2.36932, 48.863437],\n",
       "     [2.369964, 48.863696],\n",
       "     [2.37004, 48.863729],\n",
       "     [2.371217, 48.863027],\n",
       "     [2.371413, 48.862911],\n",
       "     [2.371602, 48.862798],\n",
       "     [2.371772, 48.862697],\n",
       "     [2.371938, 48.862599],\n",
       "     [2.372417, 48.862315],\n",
       "     [2.372547, 48.862237],\n",
       "     [2.372631, 48.862187],\n",
       "     [2.372751, 48.862116],\n",
       "     [2.372858, 48.862052],\n",
       "     [2.372898, 48.862027],\n",
       "     [2.372981, 48.861974],\n",
       "     [2.374674, 48.860966],\n",
       "     [2.374702, 48.860949],\n",
       "     [2.374742, 48.860926],\n",
       "     [2.375066, 48.860727],\n",
       "     [2.375197, 48.860647],\n",
       "     [2.375392, 48.860531],\n",
       "     [2.375468, 48.860484],\n",
       "     [2.37551, 48.860458],\n",
       "     [2.376768, 48.859725],\n",
       "     [2.377361, 48.85937],\n",
       "     [2.378509, 48.858679],\n",
       "     [2.379264, 48.85824],\n",
       "     [2.379879, 48.85787],\n",
       "     [2.379921, 48.857845],\n",
       "     [2.379911, 48.857828],\n",
       "     [2.379891, 48.857798],\n",
       "     [2.379906, 48.857701],\n",
       "     [2.379922, 48.857693],\n",
       "     [2.380015, 48.85764],\n",
       "     [2.380165, 48.857556],\n",
       "     [2.380364, 48.857564],\n",
       "     [2.380384, 48.857569],\n",
       "     [2.380408, 48.857554],\n",
       "     [2.380796, 48.857314],\n",
       "     [2.381932, 48.856641],\n",
       "     [2.382168, 48.856504],\n",
       "     [2.382741, 48.85616],\n",
       "     [2.383253, 48.855854],\n",
       "     [2.384228, 48.855276],\n",
       "     [2.384809, 48.854929],\n",
       "     [2.385213, 48.854681],\n",
       "     [2.385345, 48.854601],\n",
       "     [2.387522, 48.853302],\n",
       "     [2.387621, 48.853242],\n",
       "     [2.387744, 48.853169],\n",
       "     [2.388247, 48.852868],\n",
       "     [2.388289, 48.852844],\n",
       "     [2.388538, 48.852695],\n",
       "     [2.389044, 48.852394],\n",
       "     [2.389231, 48.852281],\n",
       "     [2.391151, 48.851135],\n",
       "     [2.392128, 48.850552],\n",
       "     [2.39219, 48.850515],\n",
       "     [2.392387, 48.850397],\n",
       "     [2.392518, 48.85032],\n",
       "     [2.394581, 48.849116],\n",
       "     [2.394733, 48.849093],\n",
       "     [2.395001, 48.848934],\n",
       "     [2.395131, 48.848855],\n",
       "     [2.395237, 48.84879],\n",
       "     [2.395162, 48.848728],\n",
       "     [2.395071, 48.848619],\n",
       "     [2.395054, 48.84859],\n",
       "     [2.395021, 48.848517],\n",
       "     [2.394999, 48.848403],\n",
       "     [2.39501, 48.848287],\n",
       "     [2.39505, 48.848184],\n",
       "     [2.395116, 48.848087],\n",
       "     [2.395206, 48.848],\n",
       "     [2.395304, 48.847932],\n",
       "     [2.395541, 48.84783],\n",
       "     [2.395674, 48.847798],\n",
       "     [2.395813, 48.847781],\n",
       "     [2.395795, 48.847684],\n",
       "     [2.395775, 48.847578],\n",
       "     [2.39575, 48.847443],\n",
       "     [2.39573, 48.847336],\n",
       "     [2.395709, 48.847247],\n",
       "     [2.395409, 48.845713],\n",
       "     [2.395381, 48.845547],\n",
       "     [2.395367, 48.845455],\n",
       "     [2.395339, 48.845292],\n",
       "     [2.395352, 48.845276],\n",
       "     [2.395392, 48.845228],\n",
       "     [2.395606, 48.844972],\n",
       "     [2.395631, 48.844942],\n",
       "     [2.396485, 48.84392],\n",
       "     [2.396563, 48.843826],\n",
       "     [2.396623, 48.843753],\n",
       "     [2.396718, 48.843637],\n",
       "     [2.396897, 48.843421],\n",
       "     [2.396985, 48.843319],\n",
       "     [2.397303, 48.842933],\n",
       "     [2.397438, 48.84277],\n",
       "     [2.397491, 48.842711],\n",
       "     [2.397545, 48.842648],\n",
       "     [2.397703, 48.842473],\n",
       "     [2.397817, 48.842344],\n",
       "     [2.397868, 48.842282],\n",
       "     [2.398782, 48.841249],\n",
       "     [2.398856, 48.841164],\n",
       "     [2.398909, 48.841103],\n",
       "     [2.398968, 48.841036],\n",
       "     [2.399264, 48.840694],\n",
       "     [2.399339, 48.840606],\n",
       "     [2.399431, 48.840502],\n",
       "     [2.399471, 48.840455],\n",
       "     [2.399877, 48.839988],\n",
       "     [2.399895, 48.839889],\n",
       "     [2.399926, 48.839743],\n",
       "     [2.399935, 48.839711],\n",
       "     [2.400033, 48.839642],\n",
       "     [2.400081, 48.839633],\n",
       "     [2.400141, 48.839635],\n",
       "     [2.400197, 48.83965],\n",
       "     [2.400285, 48.839563],\n",
       "     [2.400605, 48.839249],\n",
       "     [2.400664, 48.839192],\n",
       "     [2.400727, 48.83913],\n",
       "     [2.401017, 48.83886],\n",
       "     [2.401051, 48.838829],\n",
       "     [2.401268, 48.838612],\n",
       "     [2.402203, 48.837467],\n",
       "     [2.402247, 48.837358],\n",
       "     [2.402237, 48.837331],\n",
       "     [2.402172, 48.837154],\n",
       "     [2.402547, 48.837026],\n",
       "     [2.403333, 48.836751],\n",
       "     [2.403487, 48.836697],\n",
       "     [2.403614, 48.83665],\n",
       "     [2.404068, 48.836471],\n",
       "     [2.405565, 48.835923],\n",
       "     [2.405637, 48.835896],\n",
       "     [2.405694, 48.835877],\n",
       "     [2.406065, 48.835733],\n",
       "     [2.406115, 48.835702],\n",
       "     [2.406323, 48.835594],\n",
       "     [2.406434, 48.835486],\n",
       "     [2.406492, 48.83544],\n",
       "     [2.406527, 48.835412],\n",
       "     [2.406596, 48.83536],\n",
       "     [2.406569, 48.835304],\n",
       "     [2.406593, 48.835288],\n",
       "     [2.406855, 48.835197],\n",
       "     [2.40684, 48.835177],\n",
       "     [2.407237, 48.835033],\n",
       "     [2.407877, 48.8348],\n",
       "     [2.407942, 48.834775],\n",
       "     [2.407989, 48.834758],\n",
       "     [2.408, 48.834758],\n",
       "     [2.408014, 48.834758],\n",
       "     [2.40812, 48.834804],\n",
       "     [2.408188, 48.834816],\n",
       "     [2.408267, 48.834817],\n",
       "     [2.409537, 48.83435],\n",
       "     [2.410324, 48.83405],\n",
       "     [2.410527, 48.833994],\n",
       "     [2.410758, 48.833943],\n",
       "     [2.410897, 48.833916],\n",
       "     [2.411035, 48.833905],\n",
       "     [2.411462, 48.833847],\n",
       "     [2.412037, 48.833757],\n",
       "     [2.412235, 48.833703],\n",
       "     [2.412502, 48.833635],\n",
       "     [2.412662, 48.833568],\n",
       "     [2.412759, 48.833494],\n",
       "     [2.412849, 48.833551],\n",
       "     [2.412773, 48.83363],\n",
       "     [2.412632, 48.833771],\n",
       "     [2.412627, 48.833878]],\n",
       "    'type': 'LineString'}}],\n",
       " 'bbox': [2.364594, 48.833494, 2.412849, 48.863729],\n",
       " 'metadata': {'attribution': 'openrouteservice.org | OpenStreetMap contributors',\n",
       "  'service': 'routing',\n",
       "  'timestamp': 1637606520735,\n",
       "  'query': {'coordinates': [[2.3668617010116577, 48.86100925394748],\n",
       "    [2.4125343561172485, 48.83392954811057]],\n",
       "   'profile': 'cycling-regular',\n",
       "   'format': 'geojson',\n",
       "   'units': 'km'},\n",
       "  'engine': {'version': '6.6.1',\n",
       "   'build_date': '2021-07-05T10:57:48Z',\n",
       "   'graph_date': '2021-11-14T05:15:55Z'}}}"
      ]
     },
     "execution_count": 6,
     "metadata": {},
     "output_type": "execute_result"
    }
   ],
   "source": [
    "route"
   ]
  },
  {
   "cell_type": "markdown",
   "metadata": {},
   "source": [
    "## Isochrones"
   ]
  },
  {
   "cell_type": "raw",
   "metadata": {},
   "source": [
    "m = folium.Map(location=[52.521861, 13.40744], tiles='cartodbpositron', zoom_start=13)\n",
    "\n",
    "# Some coordinate in Berlin\n",
    "coordinate = [[13.384116, 52.533558]]\n",
    "\n",
    "iso = client.isochrones(\n",
    "    locations=coordinate,\n",
    "    profile='foot-walking',\n",
    "    range=[600, 1200],\n",
    "    validate=False,\n",
    "    attributes=['total_pop']\n",
    ")\n",
    "\n",
    "# Also create a Popup with Population count within isochrones\n",
    "for isochrone in iso['features']:\n",
    "    folium.Polygon(locations=[list(reversed(coord)) for coord in isochrone['geometry']['coordinates'][0]],\n",
    "                  fill='00ff00',\n",
    "                  popup=folium.Popup(\"Population: {} people\".format(isochrone['properties']['total_pop'])),\n",
    "                  opacity=0.5).add_to(m)\n",
    "    \n",
    "m"
   ]
  },
  {
   "cell_type": "markdown",
   "metadata": {},
   "source": [
    "## Matrix"
   ]
  },
  {
   "cell_type": "code",
   "execution_count": 7,
   "metadata": {},
   "outputs": [
    {
     "name": "stdout",
     "output_type": "stream",
     "text": [
      "Durations in secs: [[0.0, 1079.54], [988.53, 0.0]]\n",
      "\n",
      "Distances in m: [[0.0, 5397.9], [4942.94, 0.0]]\n"
     ]
    },
    {
     "data": {
      "text/html": [
       "<div style=\"width:100%;\"><div style=\"position:relative;width:100%;height:0;padding-bottom:60%;\"><span style=\"color:#565656\">Make this Notebook Trusted to load map: File -> Trust Notebook</span><iframe src=\"about:blank\" style=\"position:absolute;width:100%;height:100%;left:0;top:0;border:none !important;\" data-html=%3C%21DOCTYPE%20html%3E%0A%3Chead%3E%20%20%20%20%0A%20%20%20%20%3Cmeta%20http-equiv%3D%22content-type%22%20content%3D%22text/html%3B%20charset%3DUTF-8%22%20/%3E%0A%20%20%20%20%0A%20%20%20%20%20%20%20%20%3Cscript%3E%0A%20%20%20%20%20%20%20%20%20%20%20%20L_NO_TOUCH%20%3D%20false%3B%0A%20%20%20%20%20%20%20%20%20%20%20%20L_DISABLE_3D%20%3D%20false%3B%0A%20%20%20%20%20%20%20%20%3C/script%3E%0A%20%20%20%20%0A%20%20%20%20%3Cstyle%3Ehtml%2C%20body%20%7Bwidth%3A%20100%25%3Bheight%3A%20100%25%3Bmargin%3A%200%3Bpadding%3A%200%3B%7D%3C/style%3E%0A%20%20%20%20%3Cstyle%3E%23map%20%7Bposition%3Aabsolute%3Btop%3A0%3Bbottom%3A0%3Bright%3A0%3Bleft%3A0%3B%7D%3C/style%3E%0A%20%20%20%20%3Cscript%20src%3D%22https%3A//cdn.jsdelivr.net/npm/leaflet%401.6.0/dist/leaflet.js%22%3E%3C/script%3E%0A%20%20%20%20%3Cscript%20src%3D%22https%3A//code.jquery.com/jquery-1.12.4.min.js%22%3E%3C/script%3E%0A%20%20%20%20%3Cscript%20src%3D%22https%3A//maxcdn.bootstrapcdn.com/bootstrap/3.2.0/js/bootstrap.min.js%22%3E%3C/script%3E%0A%20%20%20%20%3Cscript%20src%3D%22https%3A//cdnjs.cloudflare.com/ajax/libs/Leaflet.awesome-markers/2.0.2/leaflet.awesome-markers.js%22%3E%3C/script%3E%0A%20%20%20%20%3Clink%20rel%3D%22stylesheet%22%20href%3D%22https%3A//cdn.jsdelivr.net/npm/leaflet%401.6.0/dist/leaflet.css%22/%3E%0A%20%20%20%20%3Clink%20rel%3D%22stylesheet%22%20href%3D%22https%3A//maxcdn.bootstrapcdn.com/bootstrap/3.2.0/css/bootstrap.min.css%22/%3E%0A%20%20%20%20%3Clink%20rel%3D%22stylesheet%22%20href%3D%22https%3A//maxcdn.bootstrapcdn.com/bootstrap/3.2.0/css/bootstrap-theme.min.css%22/%3E%0A%20%20%20%20%3Clink%20rel%3D%22stylesheet%22%20href%3D%22https%3A//maxcdn.bootstrapcdn.com/font-awesome/4.6.3/css/font-awesome.min.css%22/%3E%0A%20%20%20%20%3Clink%20rel%3D%22stylesheet%22%20href%3D%22https%3A//cdnjs.cloudflare.com/ajax/libs/Leaflet.awesome-markers/2.0.2/leaflet.awesome-markers.css%22/%3E%0A%20%20%20%20%3Clink%20rel%3D%22stylesheet%22%20href%3D%22https%3A//cdn.jsdelivr.net/gh/python-visualization/folium/folium/templates/leaflet.awesome.rotate.min.css%22/%3E%0A%20%20%20%20%0A%20%20%20%20%20%20%20%20%20%20%20%20%3Cmeta%20name%3D%22viewport%22%20content%3D%22width%3Ddevice-width%2C%0A%20%20%20%20%20%20%20%20%20%20%20%20%20%20%20%20initial-scale%3D1.0%2C%20maximum-scale%3D1.0%2C%20user-scalable%3Dno%22%20/%3E%0A%20%20%20%20%20%20%20%20%20%20%20%20%3Cstyle%3E%0A%20%20%20%20%20%20%20%20%20%20%20%20%20%20%20%20%23map_96985eb6b1234aa49f213cb64cebc863%20%7B%0A%20%20%20%20%20%20%20%20%20%20%20%20%20%20%20%20%20%20%20%20position%3A%20relative%3B%0A%20%20%20%20%20%20%20%20%20%20%20%20%20%20%20%20%20%20%20%20width%3A%20100.0%25%3B%0A%20%20%20%20%20%20%20%20%20%20%20%20%20%20%20%20%20%20%20%20height%3A%20100.0%25%3B%0A%20%20%20%20%20%20%20%20%20%20%20%20%20%20%20%20%20%20%20%20left%3A%200.0%25%3B%0A%20%20%20%20%20%20%20%20%20%20%20%20%20%20%20%20%20%20%20%20top%3A%200.0%25%3B%0A%20%20%20%20%20%20%20%20%20%20%20%20%20%20%20%20%7D%0A%20%20%20%20%20%20%20%20%20%20%20%20%3C/style%3E%0A%20%20%20%20%20%20%20%20%0A%3C/head%3E%0A%3Cbody%3E%20%20%20%20%0A%20%20%20%20%0A%20%20%20%20%20%20%20%20%20%20%20%20%3Cdiv%20class%3D%22folium-map%22%20id%3D%22map_96985eb6b1234aa49f213cb64cebc863%22%20%3E%3C/div%3E%0A%20%20%20%20%20%20%20%20%0A%3C/body%3E%0A%3Cscript%3E%20%20%20%20%0A%20%20%20%20%0A%20%20%20%20%20%20%20%20%20%20%20%20var%20map_96985eb6b1234aa49f213cb64cebc863%20%3D%20L.map%28%0A%20%20%20%20%20%20%20%20%20%20%20%20%20%20%20%20%22map_96985eb6b1234aa49f213cb64cebc863%22%2C%0A%20%20%20%20%20%20%20%20%20%20%20%20%20%20%20%20%7B%0A%20%20%20%20%20%20%20%20%20%20%20%20%20%20%20%20%20%20%20%20center%3A%20%5B48.862%2C%202.346%5D%2C%0A%20%20%20%20%20%20%20%20%20%20%20%20%20%20%20%20%20%20%20%20crs%3A%20L.CRS.EPSG3857%2C%0A%20%20%20%20%20%20%20%20%20%20%20%20%20%20%20%20%20%20%20%20zoom%3A%2013%2C%0A%20%20%20%20%20%20%20%20%20%20%20%20%20%20%20%20%20%20%20%20zoomControl%3A%20true%2C%0A%20%20%20%20%20%20%20%20%20%20%20%20%20%20%20%20%20%20%20%20preferCanvas%3A%20false%2C%0A%20%20%20%20%20%20%20%20%20%20%20%20%20%20%20%20%7D%0A%20%20%20%20%20%20%20%20%20%20%20%20%29%3B%0A%0A%20%20%20%20%20%20%20%20%20%20%20%20%0A%0A%20%20%20%20%20%20%20%20%0A%20%20%20%20%0A%20%20%20%20%20%20%20%20%20%20%20%20var%20tile_layer_1e0605fdf6a04cf0b9d9c46032e46a5b%20%3D%20L.tileLayer%28%0A%20%20%20%20%20%20%20%20%20%20%20%20%20%20%20%20%22https%3A//cartodb-basemaps-%7Bs%7D.global.ssl.fastly.net/light_all/%7Bz%7D/%7Bx%7D/%7By%7D.png%22%2C%0A%20%20%20%20%20%20%20%20%20%20%20%20%20%20%20%20%7B%22attribution%22%3A%20%22%5Cu0026copy%3B%20%5Cu003ca%20href%3D%5C%22http%3A//www.openstreetmap.org/copyright%5C%22%5Cu003eOpenStreetMap%5Cu003c/a%5Cu003e%20contributors%20%5Cu0026copy%3B%20%5Cu003ca%20href%3D%5C%22http%3A//cartodb.com/attributions%5C%22%5Cu003eCartoDB%5Cu003c/a%5Cu003e%2C%20CartoDB%20%5Cu003ca%20href%20%3D%5C%22http%3A//cartodb.com/attributions%5C%22%5Cu003eattributions%5Cu003c/a%5Cu003e%22%2C%20%22detectRetina%22%3A%20false%2C%20%22maxNativeZoom%22%3A%2018%2C%20%22maxZoom%22%3A%2018%2C%20%22minZoom%22%3A%200%2C%20%22noWrap%22%3A%20false%2C%20%22opacity%22%3A%201%2C%20%22subdomains%22%3A%20%22abc%22%2C%20%22tms%22%3A%20false%7D%0A%20%20%20%20%20%20%20%20%20%20%20%20%29.addTo%28map_96985eb6b1234aa49f213cb64cebc863%29%3B%0A%20%20%20%20%20%20%20%20%0A%20%20%20%20%0A%20%20%20%20%20%20%20%20%20%20%20%20var%20marker_a12dffe11c42434f9bda39f8e95b315d%20%3D%20L.marker%28%0A%20%20%20%20%20%20%20%20%20%20%20%20%20%20%20%20%5B48.86100925394748%2C%202.3668617010116577%5D%2C%0A%20%20%20%20%20%20%20%20%20%20%20%20%20%20%20%20%7B%7D%0A%20%20%20%20%20%20%20%20%20%20%20%20%29.addTo%28map_96985eb6b1234aa49f213cb64cebc863%29%3B%0A%20%20%20%20%20%20%20%20%0A%20%20%20%20%0A%20%20%20%20%20%20%20%20%20%20%20%20var%20marker_aa856fa76d3f4036884f18d7156d32e9%20%3D%20L.marker%28%0A%20%20%20%20%20%20%20%20%20%20%20%20%20%20%20%20%5B48.833855395065115%2C%202.411107420921326%5D%2C%0A%20%20%20%20%20%20%20%20%20%20%20%20%20%20%20%20%7B%7D%0A%20%20%20%20%20%20%20%20%20%20%20%20%29.addTo%28map_96985eb6b1234aa49f213cb64cebc863%29%3B%0A%20%20%20%20%20%20%20%20%0A%3C/script%3E onload=\"this.contentDocument.open();this.contentDocument.write(    decodeURIComponent(this.getAttribute('data-html')));this.contentDocument.close();\" allowfullscreen webkitallowfullscreen mozallowfullscreen></iframe></div></div>"
      ],
      "text/plain": [
       "<folium.folium.Map at 0x7f57a1334070>"
      ]
     },
     "execution_count": 7,
     "metadata": {},
     "output_type": "execute_result"
    }
   ],
   "source": [
    "#localisation Paris\n",
    "m = folium.Map(location=[48.862, 2.346], tiles='cartodbpositron', zoom_start=13)\n",
    "\n",
    "# adress départ (GPS) , adresse d'arrivée(GPS)\n",
    "\n",
    "coordinates = [[2.3668617010116577,48.86100925394748 ], [2.411107420921326,48.833855395065115]]\n",
    "\n",
    "matrix = client.distance_matrix(\n",
    "    locations=coordinates,\n",
    "    profile='cycling-regular',\n",
    "    metrics=['distance', 'duration'],\n",
    "    validate=False,\n",
    ")\n",
    "\n",
    "for marker in coordinates:\n",
    "    folium.Marker(location=list(reversed(marker))).add_to(m)\n",
    "\n",
    "print(\"Durations in secs: {}\\n\".format(matrix['durations']))\n",
    "print(\"Distances in m: {}\".format(matrix['distances']))\n",
    "\n",
    "m"
   ]
  },
  {
   "cell_type": "markdown",
   "metadata": {},
   "source": [
    "## POIs"
   ]
  },
  {
   "cell_type": "raw",
   "metadata": {},
   "source": [
    "m = folium.Map(location=[52.521861, 13.40744], tiles='cartodbpositron', zoom_start=13)\n",
    "\n",
    "# Some coordinates in Berlin\n",
    "geojson = {\"type\": \"point\", \"coordinates\": [13.384116, 52.533558]}\n",
    "\n",
    "pois = client.places(\n",
    "    request='pois',\n",
    "    geojson=geojson,\n",
    "    buffer=500,  # searches within 500 meters of specified point\n",
    "    filter_category_ids=[561, 568],  # https://github.com/GIScience/openpoiservice/blob/master/openpoiservice/server/categories/categories.yml\n",
    "    validate=False,\n",
    "#     dry_run=True\n",
    ")\n",
    "\n",
    "for poi in pois[0]['features']: \n",
    "    folium.Marker(\n",
    "        location=list(reversed(poi['geometry']['coordinates'])),\n",
    "        icon=folium.Icon(icon='info-sign'),\n",
    "        popup=folium.Popup(poi['properties'].get('osm_tags', {}).get('name', \"Bar ohne Namen\")),\n",
    "    ).add_to(m)\n",
    "    \n",
    "m"
   ]
  },
  {
   "cell_type": "markdown",
   "metadata": {},
   "source": [
    "## Geocoding"
   ]
  },
  {
   "cell_type": "markdown",
   "metadata": {},
   "source": [
    "### Forward Geocoding"
   ]
  },
  {
   "cell_type": "code",
   "execution_count": 8,
   "metadata": {},
   "outputs": [
    {
     "data": {
      "text/html": [
       "<div style=\"width:100%;\"><div style=\"position:relative;width:100%;height:0;padding-bottom:60%;\"><span style=\"color:#565656\">Make this Notebook Trusted to load map: File -> Trust Notebook</span><iframe src=\"about:blank\" style=\"position:absolute;width:100%;height:100%;left:0;top:0;border:none !important;\" data-html=%3C%21DOCTYPE%20html%3E%0A%3Chead%3E%20%20%20%20%0A%20%20%20%20%3Cmeta%20http-equiv%3D%22content-type%22%20content%3D%22text/html%3B%20charset%3DUTF-8%22%20/%3E%0A%20%20%20%20%0A%20%20%20%20%20%20%20%20%3Cscript%3E%0A%20%20%20%20%20%20%20%20%20%20%20%20L_NO_TOUCH%20%3D%20false%3B%0A%20%20%20%20%20%20%20%20%20%20%20%20L_DISABLE_3D%20%3D%20false%3B%0A%20%20%20%20%20%20%20%20%3C/script%3E%0A%20%20%20%20%0A%20%20%20%20%3Cstyle%3Ehtml%2C%20body%20%7Bwidth%3A%20100%25%3Bheight%3A%20100%25%3Bmargin%3A%200%3Bpadding%3A%200%3B%7D%3C/style%3E%0A%20%20%20%20%3Cstyle%3E%23map%20%7Bposition%3Aabsolute%3Btop%3A0%3Bbottom%3A0%3Bright%3A0%3Bleft%3A0%3B%7D%3C/style%3E%0A%20%20%20%20%3Cscript%20src%3D%22https%3A//cdn.jsdelivr.net/npm/leaflet%401.6.0/dist/leaflet.js%22%3E%3C/script%3E%0A%20%20%20%20%3Cscript%20src%3D%22https%3A//code.jquery.com/jquery-1.12.4.min.js%22%3E%3C/script%3E%0A%20%20%20%20%3Cscript%20src%3D%22https%3A//maxcdn.bootstrapcdn.com/bootstrap/3.2.0/js/bootstrap.min.js%22%3E%3C/script%3E%0A%20%20%20%20%3Cscript%20src%3D%22https%3A//cdnjs.cloudflare.com/ajax/libs/Leaflet.awesome-markers/2.0.2/leaflet.awesome-markers.js%22%3E%3C/script%3E%0A%20%20%20%20%3Clink%20rel%3D%22stylesheet%22%20href%3D%22https%3A//cdn.jsdelivr.net/npm/leaflet%401.6.0/dist/leaflet.css%22/%3E%0A%20%20%20%20%3Clink%20rel%3D%22stylesheet%22%20href%3D%22https%3A//maxcdn.bootstrapcdn.com/bootstrap/3.2.0/css/bootstrap.min.css%22/%3E%0A%20%20%20%20%3Clink%20rel%3D%22stylesheet%22%20href%3D%22https%3A//maxcdn.bootstrapcdn.com/bootstrap/3.2.0/css/bootstrap-theme.min.css%22/%3E%0A%20%20%20%20%3Clink%20rel%3D%22stylesheet%22%20href%3D%22https%3A//maxcdn.bootstrapcdn.com/font-awesome/4.6.3/css/font-awesome.min.css%22/%3E%0A%20%20%20%20%3Clink%20rel%3D%22stylesheet%22%20href%3D%22https%3A//cdnjs.cloudflare.com/ajax/libs/Leaflet.awesome-markers/2.0.2/leaflet.awesome-markers.css%22/%3E%0A%20%20%20%20%3Clink%20rel%3D%22stylesheet%22%20href%3D%22https%3A//cdn.jsdelivr.net/gh/python-visualization/folium/folium/templates/leaflet.awesome.rotate.min.css%22/%3E%0A%20%20%20%20%0A%20%20%20%20%20%20%20%20%20%20%20%20%3Cmeta%20name%3D%22viewport%22%20content%3D%22width%3Ddevice-width%2C%0A%20%20%20%20%20%20%20%20%20%20%20%20%20%20%20%20initial-scale%3D1.0%2C%20maximum-scale%3D1.0%2C%20user-scalable%3Dno%22%20/%3E%0A%20%20%20%20%20%20%20%20%20%20%20%20%3Cstyle%3E%0A%20%20%20%20%20%20%20%20%20%20%20%20%20%20%20%20%23map_b5cacc06482b4a3fa46cad304602e2fc%20%7B%0A%20%20%20%20%20%20%20%20%20%20%20%20%20%20%20%20%20%20%20%20position%3A%20relative%3B%0A%20%20%20%20%20%20%20%20%20%20%20%20%20%20%20%20%20%20%20%20width%3A%20100.0%25%3B%0A%20%20%20%20%20%20%20%20%20%20%20%20%20%20%20%20%20%20%20%20height%3A%20100.0%25%3B%0A%20%20%20%20%20%20%20%20%20%20%20%20%20%20%20%20%20%20%20%20left%3A%200.0%25%3B%0A%20%20%20%20%20%20%20%20%20%20%20%20%20%20%20%20%20%20%20%20top%3A%200.0%25%3B%0A%20%20%20%20%20%20%20%20%20%20%20%20%20%20%20%20%7D%0A%20%20%20%20%20%20%20%20%20%20%20%20%3C/style%3E%0A%20%20%20%20%20%20%20%20%0A%3C/head%3E%0A%3Cbody%3E%20%20%20%20%0A%20%20%20%20%0A%20%20%20%20%20%20%20%20%20%20%20%20%3Cdiv%20class%3D%22folium-map%22%20id%3D%22map_b5cacc06482b4a3fa46cad304602e2fc%22%20%3E%3C/div%3E%0A%20%20%20%20%20%20%20%20%0A%3C/body%3E%0A%3Cscript%3E%20%20%20%20%0A%20%20%20%20%0A%20%20%20%20%20%20%20%20%20%20%20%20var%20map_b5cacc06482b4a3fa46cad304602e2fc%20%3D%20L.map%28%0A%20%20%20%20%20%20%20%20%20%20%20%20%20%20%20%20%22map_b5cacc06482b4a3fa46cad304602e2fc%22%2C%0A%20%20%20%20%20%20%20%20%20%20%20%20%20%20%20%20%7B%0A%20%20%20%20%20%20%20%20%20%20%20%20%20%20%20%20%20%20%20%20center%3A%20%5B48.862%2C%202.346%5D%2C%0A%20%20%20%20%20%20%20%20%20%20%20%20%20%20%20%20%20%20%20%20crs%3A%20L.CRS.EPSG3857%2C%0A%20%20%20%20%20%20%20%20%20%20%20%20%20%20%20%20%20%20%20%20zoom%3A%2013%2C%0A%20%20%20%20%20%20%20%20%20%20%20%20%20%20%20%20%20%20%20%20zoomControl%3A%20true%2C%0A%20%20%20%20%20%20%20%20%20%20%20%20%20%20%20%20%20%20%20%20preferCanvas%3A%20false%2C%0A%20%20%20%20%20%20%20%20%20%20%20%20%20%20%20%20%7D%0A%20%20%20%20%20%20%20%20%20%20%20%20%29%3B%0A%0A%20%20%20%20%20%20%20%20%20%20%20%20%0A%0A%20%20%20%20%20%20%20%20%0A%20%20%20%20%0A%20%20%20%20%20%20%20%20%20%20%20%20var%20tile_layer_b20827e2d2694ec28e01f63ce4d83fb9%20%3D%20L.tileLayer%28%0A%20%20%20%20%20%20%20%20%20%20%20%20%20%20%20%20%22https%3A//cartodb-basemaps-%7Bs%7D.global.ssl.fastly.net/light_all/%7Bz%7D/%7Bx%7D/%7By%7D.png%22%2C%0A%20%20%20%20%20%20%20%20%20%20%20%20%20%20%20%20%7B%22attribution%22%3A%20%22%5Cu0026copy%3B%20%5Cu003ca%20href%3D%5C%22http%3A//www.openstreetmap.org/copyright%5C%22%5Cu003eOpenStreetMap%5Cu003c/a%5Cu003e%20contributors%20%5Cu0026copy%3B%20%5Cu003ca%20href%3D%5C%22http%3A//cartodb.com/attributions%5C%22%5Cu003eCartoDB%5Cu003c/a%5Cu003e%2C%20CartoDB%20%5Cu003ca%20href%20%3D%5C%22http%3A//cartodb.com/attributions%5C%22%5Cu003eattributions%5Cu003c/a%5Cu003e%22%2C%20%22detectRetina%22%3A%20false%2C%20%22maxNativeZoom%22%3A%2018%2C%20%22maxZoom%22%3A%2018%2C%20%22minZoom%22%3A%200%2C%20%22noWrap%22%3A%20false%2C%20%22opacity%22%3A%201%2C%20%22subdomains%22%3A%20%22abc%22%2C%20%22tms%22%3A%20false%7D%0A%20%20%20%20%20%20%20%20%20%20%20%20%29.addTo%28map_b5cacc06482b4a3fa46cad304602e2fc%29%3B%0A%20%20%20%20%20%20%20%20%0A%20%20%20%20%0A%20%20%20%20%20%20%20%20%20%20%20%20var%20marker_502165626e3447ba856047620d690864%20%3D%20L.marker%28%0A%20%20%20%20%20%20%20%20%20%20%20%20%20%20%20%20%5B48.861078%2C%202.365988%5D%2C%0A%20%20%20%20%20%20%20%20%20%20%20%20%20%20%20%20%7B%7D%0A%20%20%20%20%20%20%20%20%20%20%20%20%29.addTo%28map_b5cacc06482b4a3fa46cad304602e2fc%29%3B%0A%20%20%20%20%20%20%20%20%0A%20%20%20%20%0A%20%20%20%20%20%20%20%20%20%20%20%20var%20icon_cc2b275293fe4934bcf86eec63f44297%20%3D%20L.AwesomeMarkers.icon%28%0A%20%20%20%20%20%20%20%20%20%20%20%20%20%20%20%20%7B%22extraClasses%22%3A%20%22fa-rotate-0%22%2C%20%22icon%22%3A%20%22compass%22%2C%20%22iconColor%22%3A%20%22white%22%2C%20%22markerColor%22%3A%20%22green%22%2C%20%22prefix%22%3A%20%22fa%22%7D%0A%20%20%20%20%20%20%20%20%20%20%20%20%29%3B%0A%20%20%20%20%20%20%20%20%20%20%20%20marker_502165626e3447ba856047620d690864.setIcon%28icon_cc2b275293fe4934bcf86eec63f44297%29%3B%0A%20%20%20%20%20%20%20%20%0A%20%20%20%20%0A%20%20%20%20%20%20%20%20var%20popup_c482df044b2748868b32cbe3a1754572%20%3D%20L.popup%28%7B%22maxWidth%22%3A%20%22100%25%22%7D%29%3B%0A%0A%20%20%20%20%20%20%20%20%0A%20%20%20%20%20%20%20%20%20%20%20%20var%20html_e87f7e89c3db40f39fb25ff57ed4d2f5%20%3D%20%24%28%60%3Cdiv%20id%3D%22html_e87f7e89c3db40f39fb25ff57ed4d2f5%22%20style%3D%22width%3A%20100.0%25%3B%20height%3A%20100.0%25%3B%22%3E13%20Rue%20Du%20Pont%20Aux%20Choux%3C/div%3E%60%29%5B0%5D%3B%0A%20%20%20%20%20%20%20%20%20%20%20%20popup_c482df044b2748868b32cbe3a1754572.setContent%28html_e87f7e89c3db40f39fb25ff57ed4d2f5%29%3B%0A%20%20%20%20%20%20%20%20%0A%0A%20%20%20%20%20%20%20%20marker_502165626e3447ba856047620d690864.bindPopup%28popup_c482df044b2748868b32cbe3a1754572%29%0A%20%20%20%20%20%20%20%20%3B%0A%0A%20%20%20%20%20%20%20%20%0A%20%20%20%20%0A%3C/script%3E onload=\"this.contentDocument.open();this.contentDocument.write(    decodeURIComponent(this.getAttribute('data-html')));this.contentDocument.close();\" allowfullscreen webkitallowfullscreen mozallowfullscreen></iframe></div></div>"
      ],
      "text/plain": [
       "<folium.folium.Map at 0x7f57c87d72e0>"
      ]
     },
     "execution_count": 8,
     "metadata": {},
     "output_type": "execute_result"
    }
   ],
   "source": [
    "#location Paris\n",
    "m = folium.Map(location=[48.862, 2.346], tiles='cartodbpositron', zoom_start=13)\n",
    "\n",
    "address = \"13 rue du pont aux choux, PARIS\"\n",
    "\n",
    "geocode = client.pelias_search(\n",
    "    text=address,\n",
    "    focus_point=list(reversed(m.location)),\n",
    "    validate=False,\n",
    ")\n",
    "\n",
    "for result in geocode['features']:\n",
    "    folium.Marker(\n",
    "        location=list(reversed(result['geometry']['coordinates'])),\n",
    "        icon=folium.Icon(icon='compass', color='green', prefix='fa'),\n",
    "        popup=folium.Popup(result['properties']['name'])\n",
    "      \n",
    "    ).add_to(m)\n",
    "    \n",
    "m"
   ]
  },
  {
   "cell_type": "code",
   "execution_count": 16,
   "metadata": {},
   "outputs": [
    {
     "data": {
      "text/plain": [
       "{'geocoding': {'version': '0.2',\n",
       "  'attribution': 'https://openrouteservice.org/terms-of-service/#attribution-geocode',\n",
       "  'query': {'text': '13 rue du pont aux choux, PARIS',\n",
       "   'size': 10,\n",
       "   'private': False,\n",
       "   'focus.point.lat': 48.862,\n",
       "   'focus.point.lon': 2.346,\n",
       "   'lang': {'name': 'English',\n",
       "    'iso6391': 'en',\n",
       "    'iso6393': 'eng',\n",
       "    'via': 'default',\n",
       "    'defaulted': True},\n",
       "   'querySize': 20,\n",
       "   'parser': 'libpostal',\n",
       "   'parsed_text': {'housenumber': '13',\n",
       "    'street': 'rue du pont aux choux',\n",
       "    'city': 'paris'}},\n",
       "  'engine': {'name': 'Pelias', 'author': 'Mapzen', 'version': '1.0'},\n",
       "  'timestamp': 1637606521149},\n",
       " 'type': 'FeatureCollection',\n",
       " 'features': [{'type': 'Feature',\n",
       "   'geometry': {'type': 'Point', 'coordinates': [2.365988, 48.861078]},\n",
       "   'properties': {'id': 'fr/countrywide:627f88ee70c65b07',\n",
       "    'gid': 'openaddresses:address:fr/countrywide:627f88ee70c65b07',\n",
       "    'layer': 'address',\n",
       "    'source': 'openaddresses',\n",
       "    'source_id': 'fr/countrywide:627f88ee70c65b07',\n",
       "    'name': '13 Rue Du Pont Aux Choux',\n",
       "    'housenumber': '13',\n",
       "    'street': 'Rue Du Pont Aux Choux',\n",
       "    'postalcode': '75003',\n",
       "    'confidence': 1,\n",
       "    'match_type': 'exact',\n",
       "    'distance': 1.467,\n",
       "    'accuracy': 'point',\n",
       "    'country': 'France',\n",
       "    'country_gid': 'whosonfirst:country:85633147',\n",
       "    'country_a': 'FRA',\n",
       "    'macroregion': 'Ile-of-France',\n",
       "    'macroregion_gid': 'whosonfirst:macroregion:404227465',\n",
       "    'macroregion_a': 'IF',\n",
       "    'region': 'Paris',\n",
       "    'region_gid': 'whosonfirst:region:85683497',\n",
       "    'region_a': 'VP',\n",
       "    'localadmin': 'Paris',\n",
       "    'localadmin_gid': 'whosonfirst:localadmin:1159322569',\n",
       "    'locality': 'Paris',\n",
       "    'locality_gid': 'whosonfirst:locality:101751119',\n",
       "    'borough': '3rd Arrondissement',\n",
       "    'borough_gid': 'whosonfirst:borough:1158894235',\n",
       "    'neighbourhood': 'Archives',\n",
       "    'neighbourhood_gid': 'whosonfirst:neighbourhood:1158894539',\n",
       "    'continent': 'Europe',\n",
       "    'continent_gid': 'whosonfirst:continent:102191581',\n",
       "    'label': '13 Rue Du Pont Aux Choux, Paris, France'}}],\n",
       " 'bbox': [2.365988, 48.861078, 2.365988, 48.861078]}"
      ]
     },
     "execution_count": 16,
     "metadata": {},
     "output_type": "execute_result"
    }
   ],
   "source": [
    "geocode"
   ]
  },
  {
   "cell_type": "markdown",
   "metadata": {},
   "source": [
    "### Reverse Geocoding"
   ]
  },
  {
   "cell_type": "raw",
   "metadata": {},
   "source": [
    "m = folium.Map(location=[48.862, 2.346], tiles='cartodbpositron', zoom_start=13)\n",
    "\n",
    "coordinate = [2.3660784959793095, 48.86111512940786]\n",
    "\n",
    "reverse = client.pelias_reverse(\n",
    "    point=coordinate,\n",
    "    validate=False,\n",
    ")\n",
    "\n",
    "for result in reverse['features']:\n",
    "    folium.Marker(\n",
    "        location=list(reversed(result['geometry']['coordinates'])),\n",
    "        icon=folium.Icon(icon='history', color='green', prefix='fa'),\n",
    "        popup=folium.Popup(result['properties']['label'])\n",
    "    ).add_to(m)\n",
    "\n",
    "m"
   ]
  },
  {
   "cell_type": "code",
   "execution_count": null,
   "metadata": {},
   "outputs": [],
   "source": []
  },
  {
   "cell_type": "markdown",
   "metadata": {},
   "source": [
    "## Elevation"
   ]
  },
  {
   "cell_type": "markdown",
   "metadata": {},
   "source": [
    "### Point"
   ]
  },
  {
   "cell_type": "raw",
   "metadata": {},
   "source": [
    "coordinate = [13.384116, 52.533558]\n",
    "\n",
    "elevation = client.elevation_point(\n",
    "    format_in='point',\n",
    "    format_out='point',\n",
    "    geometry=coordinate\n",
    ")\n",
    "\n",
    "print(elevation['geometry'])"
   ]
  },
  {
   "cell_type": "markdown",
   "metadata": {},
   "source": [
    "### Line"
   ]
  },
  {
   "cell_type": "raw",
   "metadata": {},
   "source": [
    "coordinates = [[13.384116, 52.533558], [13.428726, 52.519355], [13.41774, 52.498929], [13.374825, 52.496369]]\n",
    "\n",
    "elevation = client.elevation_line(\n",
    "    format_in='polyline',  # other options: geojson, encodedpolyline\n",
    "    format_out='geojson',\n",
    "    geometry=coordinates,\n",
    ")\n",
    "\n",
    "print(elevation['geometry']['coordinates'])"
   ]
  },
  {
   "cell_type": "markdown",
   "metadata": {},
   "source": [
    "## Optimization"
   ]
  },
  {
   "cell_type": "markdown",
   "metadata": {},
   "source": [
    "### Simple waypoint optimization"
   ]
  },
  {
   "cell_type": "markdown",
   "metadata": {},
   "source": [
    "With `openrouteservice-py` you can ask for waypoint optimization when requesting a normal `direction`. This assumes that your first coordinate is the start location and the last coordinate is the end location, i.e. only the `via` endpoints are optimized. To make it a round trip, make the first and last location the same."
   ]
  },
  {
   "cell_type": "raw",
   "metadata": {},
   "source": [
    "m = folium.Map(location=[52.521861, 13.40744], tiles='cartodbpositron', zoom_start=13)\n",
    "\n",
    "# Some coordinates in Berlin\n",
    "coordinates = [[13.384116, 52.533558], [13.41774, 52.498929], [13.428726, 52.519355], [13.374825, 52.496369]]\n",
    "\n",
    "# The popup will show the ID in the coordinate list. In a non-optimized waypoint order, the waypoints\n",
    "# would have been visited from ID 0 to ID 3 sequentially.\n",
    "for idx, coords in enumerate(coordinates):\n",
    "    folium.Marker(location=list(reversed(coords)),\n",
    "                 popup=folium.Popup(\"ID: {}\".format(idx))).add_to(m)\n",
    "\n",
    "route = client.directions(\n",
    "    coordinates=coordinates,\n",
    "    profile='foot-walking',\n",
    "    format='geojson',\n",
    "    validate=False,\n",
    "    optimize_waypoints=True\n",
    ")\n",
    "\n",
    "folium.PolyLine(locations=[list(reversed(coord)) \n",
    "                           for coord in \n",
    "                           route['features'][0]['geometry']['coordinates']]).add_to(m)\n",
    "    \n",
    "m"
   ]
  },
  {
   "cell_type": "markdown",
   "metadata": {},
   "source": [
    "### Optimize job scheduling for multiple vehicles"
   ]
  },
  {
   "cell_type": "markdown",
   "metadata": {},
   "source": [
    "The next example makes more use of the power of the ORS optimization endpoint. Two vehicles are assigned to 6 jobs, where the capacity constraints are such that each vehicle can only carry out 3 jobs on its route."
   ]
  },
  {
   "cell_type": "raw",
   "metadata": {},
   "source": [
    "m = folium.Map(location=[52.521861, 13.40744], tiles='cartodbpositron', zoom_start=13)\n",
    "\n",
    "vehicle_locations = [[13.390446, 52.506087], [13.384116, 52.533558]]\n",
    "job_locations = [[13.428726, 52.519355],\n",
    "                 [13.41774, 52.498929],\n",
    "                 [13.374825, 52.496369],\n",
    "                 [13.378859, 52.509796],\n",
    "                 [13.400488, 52.509691],\n",
    "                 [13.358517, 52.524264]]\n",
    "\n",
    "# Assign vehicles to do the jobs\n",
    "vehicles = []\n",
    "for idx, coords in enumerate(vehicle_locations):\n",
    "    vehicles.append(ors.optimization.Vehicle(\n",
    "        id=idx,\n",
    "        profile='driving-car',\n",
    "        start=coords,\n",
    "        end=coords,\n",
    "        capacity=[3]  # Limit capacity so only 3 jobs can be taken by each vehicle\n",
    "    ))\n",
    "    folium.Marker(location=list(reversed(coords)), icon=folium.Icon(icon='truck', prefix='fa')).add_to(m)\n",
    "\n",
    "# Define jobs to be carried out\n",
    "jobs=[]\n",
    "for idx, coords in enumerate(job_locations):\n",
    "    jobs.append(ors.optimization.Job(\n",
    "        id=idx,\n",
    "        location=coords,\n",
    "        amount=[1]  # Occupies capacity in vehicle\n",
    "    ))\n",
    "    folium.Marker(location=list(reversed(coords)), icon=folium.Icon(icon='archive', prefix='fa', color='green')).add_to(m)\n",
    "\n",
    "optimized = client.optimization(\n",
    "    jobs=jobs,\n",
    "    vehicles=vehicles,\n",
    "    geometry=True,  ## will output the geometry,\n",
    ")\n",
    "\n",
    "folium.PolyLine(\n",
    "    locations=[list(reversed(coords)) for coords in ors.convert.decode_polyline(optimized['routes'][0]['geometry'])['coordinates']],\n",
    "    color='red'\n",
    ").add_to(m)\n",
    "\n",
    "folium.PolyLine(\n",
    "    locations=[list(reversed(coords)) for coords in ors.convert.decode_polyline(optimized['routes'][1]['geometry'])['coordinates']],\n",
    "    color='orange'\n",
    ").add_to(m)\n",
    "\n",
    "m"
   ]
  }
 ],
 "metadata": {
  "kernelspec": {
   "display_name": "Python 3",
   "language": "python",
   "name": "python3"
  },
  "language_info": {
   "codemirror_mode": {
    "name": "ipython",
    "version": 3
   },
   "file_extension": ".py",
   "mimetype": "text/x-python",
   "name": "python",
   "nbconvert_exporter": "python",
   "pygments_lexer": "ipython3",
   "version": "3.8.3"
  }
 },
 "nbformat": 4,
 "nbformat_minor": 4
}
