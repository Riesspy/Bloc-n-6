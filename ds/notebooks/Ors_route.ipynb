{
 "cells": [
  {
   "cell_type": "code",
   "execution_count": 4,
   "metadata": {
    "ExecuteTime": {
     "end_time": "2021-11-20T22:18:07.677185Z",
     "start_time": "2021-11-20T22:18:07.142092Z"
    }
   },
   "outputs": [],
   "source": [
    "import gpxpy \n",
    "import gpxpy.gpx \n",
    "import pandas as pd\n",
    "import plotly_express as px"
   ]
  },
  {
   "cell_type": "code",
   "execution_count": 5,
   "metadata": {
    "ExecuteTime": {
     "end_time": "2021-11-20T22:18:08.454133Z",
     "start_time": "2021-11-20T22:18:08.446907Z"
    }
   },
   "outputs": [],
   "source": [
    "gpx_file = open('../data/raw/ORSRoutes/ors-route.gpx', 'r') "
   ]
  },
  {
   "cell_type": "code",
   "execution_count": 6,
   "metadata": {
    "ExecuteTime": {
     "end_time": "2021-11-20T22:18:09.210080Z",
     "start_time": "2021-11-20T22:18:09.201286Z"
    }
   },
   "outputs": [
    {
     "data": {
      "text/plain": [
       "<_io.TextIOWrapper name='../data/raw/ORSRoutes/ors-route.gpx' mode='r' encoding='UTF-8'>"
      ]
     },
     "execution_count": 6,
     "metadata": {},
     "output_type": "execute_result"
    }
   ],
   "source": [
    "gpx_file"
   ]
  },
  {
   "cell_type": "code",
   "execution_count": 7,
   "metadata": {
    "ExecuteTime": {
     "end_time": "2021-11-20T22:18:10.583059Z",
     "start_time": "2021-11-20T22:18:10.565439Z"
    }
   },
   "outputs": [],
   "source": [
    "gpx = gpxpy.parse(gpx_file)"
   ]
  },
  {
   "cell_type": "raw",
   "metadata": {},
   "source": [
    " for track in gpx.tracks: \n",
    "    for segment in track.segments: \n",
    "        for point in segment.points: \n",
    "            print 'Point at ({0},{1}) -> {2}'.format(point.latitude, point.longitude, point.elevation) "
   ]
  },
  {
   "cell_type": "code",
   "execution_count": 8,
   "metadata": {
    "ExecuteTime": {
     "end_time": "2021-11-20T22:18:12.423640Z",
     "start_time": "2021-11-20T22:18:12.412867Z"
    }
   },
   "outputs": [
    {
     "name": "stdout",
     "output_type": "stream",
     "text": [
      "[48.861109, 48.861313, 48.861326, 48.861389, 48.861487, 48.861528, 48.861724, 48.861762, 48.861804, 48.861899, 48.862078, 48.862382, 48.862463, 48.862598, 48.862611, 48.862649, 48.862685, 48.86298, 48.863384, 48.863407, 48.863437, 48.863696, 48.863729, 48.863027, 48.862911, 48.862798, 48.862697, 48.862599, 48.862315, 48.862237, 48.862187, 48.862116, 48.862052, 48.862027, 48.861974, 48.860966, 48.860949, 48.860926, 48.860727, 48.860647, 48.860531, 48.860484, 48.860458, 48.859725, 48.85937, 48.858679, 48.85824, 48.85787, 48.857845, 48.857828, 48.857798, 48.857701, 48.857693, 48.85764, 48.857556, 48.857564, 48.857569, 48.857554, 48.857314, 48.856641, 48.856504, 48.85616, 48.855854, 48.855276, 48.854929, 48.854681, 48.854601, 48.853302, 48.853242, 48.853169, 48.852868, 48.852844, 48.852695, 48.852394, 48.852281, 48.851135, 48.850552, 48.850515, 48.850397, 48.85032, 48.849116, 48.849093, 48.849141, 48.849173, 48.849209, 48.849282, 48.849316, 48.849333, 48.849361, 48.849387, 48.849397, 48.849426, 48.849433, 48.849444, 48.849442, 48.849426, 48.849412, 48.849393, 48.849343, 48.849288, 48.849239, 48.849196, 48.849124, 48.84905, 48.849028, 48.848916, 48.848699, 48.848565, 48.848522, 48.848364, 48.848303, 48.848174, 48.84812, 48.848112, 48.848044, 48.847974, 48.847955, 48.847891, 48.847888, 48.847821, 48.847819, 48.84773, 48.847291, 48.847288, 48.847209, 48.846494, 48.846458, 48.845192, 48.845109, 48.845063, 48.844988, 48.844892, 48.84484, 48.84483, 48.844825, 48.844799, 48.84478, 48.844793, 48.844828, 48.844869, 48.84488, 48.844907, 48.844879, 48.844733, 48.844702, 48.844692, 48.844691, 48.844669, 48.84465, 48.844641, 48.844387, 48.844301, 48.844298, 48.844287, 48.844281, 48.844278, 48.844268, 48.844173, 48.844103, 48.844089, 48.844068, 48.843995, 48.84397, 48.843957, 48.843938, 48.84392, 48.843839, 48.843815, 48.843813, 48.843804, 48.843791, 48.843778, 48.843745, 48.84373, 48.843617, 48.843652, 48.843622, 48.843661, 48.843646, 48.843642, 48.84364, 48.843629, 48.843604, 48.843681, 48.843829, 48.843846, 48.843907, 48.843932, 48.84392, 48.843923, 48.844767, 48.844862, 48.844822, 48.844616, 48.844464, 48.844405, 48.844395, 48.844392] [2.366123, 2.364678, 2.364594, 2.364598, 2.364603, 2.364699, 2.365158, 2.365248, 2.365345, 2.365568, 2.365988, 2.366702, 2.366891, 2.367196, 2.367225, 2.367312, 2.367404, 2.36815, 2.369185, 2.369245, 2.36932, 2.369964, 2.37004, 2.371217, 2.371413, 2.371602, 2.371772, 2.371938, 2.372417, 2.372547, 2.372631, 2.372751, 2.372858, 2.372898, 2.372981, 2.374674, 2.374702, 2.374742, 2.375066, 2.375197, 2.375392, 2.375468, 2.37551, 2.376768, 2.377361, 2.378509, 2.379264, 2.379879, 2.379921, 2.379911, 2.379891, 2.379906, 2.379922, 2.380015, 2.380165, 2.380364, 2.380384, 2.380408, 2.380796, 2.381932, 2.382168, 2.382741, 2.383253, 2.384228, 2.384809, 2.385213, 2.385345, 2.387522, 2.387621, 2.387744, 2.388247, 2.388289, 2.388538, 2.389044, 2.389231, 2.391151, 2.392128, 2.39219, 2.392387, 2.392518, 2.394581, 2.394733, 2.394799, 2.39485, 2.39491, 2.395064, 2.395154, 2.395205, 2.395305, 2.3954, 2.395437, 2.395617, 2.395662, 2.395863, 2.395978, 2.396202, 2.3963, 2.396388, 2.396579, 2.396734, 2.396854, 2.396935, 2.397058, 2.397158, 2.397185, 2.397299, 2.397444, 2.397492, 2.397505, 2.397449, 2.397428, 2.397405, 2.397383, 2.397463, 2.39743, 2.397391, 2.397624, 2.398291, 2.398322, 2.398964, 2.398977, 2.398974, 2.398892, 2.398926, 2.398957, 2.400004, 2.400056, 2.401923, 2.402046, 2.401993, 2.401958, 2.401982, 2.402034, 2.402049, 2.40206, 2.402115, 2.402287, 2.402361, 2.402444, 2.402495, 2.402614, 2.402901, 2.403211, 2.405028, 2.405358, 2.405448, 2.405466, 2.405727, 2.40593, 2.406029, 2.409003, 2.410002, 2.41004, 2.410175, 2.410275, 2.410325, 2.41044, 2.410633, 2.411461, 2.411631, 2.411882, 2.412737, 2.412961, 2.413073, 2.41328, 2.413483, 2.414389, 2.414448, 2.414483, 2.414611, 2.414751, 2.414895, 2.4153, 2.415474, 2.416819, 2.416934, 2.417364, 2.417644, 2.417803, 2.417843, 2.417871, 2.418009, 2.41832, 2.418493, 2.418802, 2.418838, 2.418966, 2.419026, 2.419066, 2.419109, 2.42087, 2.420989, 2.421074, 2.421484, 2.421796, 2.421913, 2.421932, 2.421938]\n"
     ]
    }
   ],
   "source": [
    "lat=[]\n",
    "lon=[]\n",
    "\n",
    "for track in gpx.tracks: \n",
    "    for segment in track.segments: \n",
    "        for point in segment.points: \n",
    "            #print 'Point at ({0},{1})'.format(point.latitude, point.longitude) \n",
    "            lat.append(point.latitude)\n",
    "            lon.append(point.longitude)\n",
    "print(lat, lon)\n"
   ]
  },
  {
   "cell_type": "code",
   "execution_count": 9,
   "metadata": {
    "ExecuteTime": {
     "end_time": "2021-11-20T22:18:13.221100Z",
     "start_time": "2021-11-20T22:18:13.196921Z"
    }
   },
   "outputs": [
    {
     "data": {
      "text/html": [
       "<div>\n",
       "<style scoped>\n",
       "    .dataframe tbody tr th:only-of-type {\n",
       "        vertical-align: middle;\n",
       "    }\n",
       "\n",
       "    .dataframe tbody tr th {\n",
       "        vertical-align: top;\n",
       "    }\n",
       "\n",
       "    .dataframe thead th {\n",
       "        text-align: right;\n",
       "    }\n",
       "</style>\n",
       "<table border=\"1\" class=\"dataframe\">\n",
       "  <thead>\n",
       "    <tr style=\"text-align: right;\">\n",
       "      <th></th>\n",
       "      <th>lat</th>\n",
       "      <th>lon</th>\n",
       "    </tr>\n",
       "  </thead>\n",
       "  <tbody>\n",
       "    <tr>\n",
       "      <th>0</th>\n",
       "      <td>48.861109</td>\n",
       "      <td>2.366123</td>\n",
       "    </tr>\n",
       "    <tr>\n",
       "      <th>1</th>\n",
       "      <td>48.861313</td>\n",
       "      <td>2.364678</td>\n",
       "    </tr>\n",
       "    <tr>\n",
       "      <th>2</th>\n",
       "      <td>48.861326</td>\n",
       "      <td>2.364594</td>\n",
       "    </tr>\n",
       "    <tr>\n",
       "      <th>3</th>\n",
       "      <td>48.861389</td>\n",
       "      <td>2.364598</td>\n",
       "    </tr>\n",
       "    <tr>\n",
       "      <th>4</th>\n",
       "      <td>48.861487</td>\n",
       "      <td>2.364603</td>\n",
       "    </tr>\n",
       "    <tr>\n",
       "      <th>...</th>\n",
       "      <td>...</td>\n",
       "      <td>...</td>\n",
       "    </tr>\n",
       "    <tr>\n",
       "      <th>193</th>\n",
       "      <td>48.844616</td>\n",
       "      <td>2.421484</td>\n",
       "    </tr>\n",
       "    <tr>\n",
       "      <th>194</th>\n",
       "      <td>48.844464</td>\n",
       "      <td>2.421796</td>\n",
       "    </tr>\n",
       "    <tr>\n",
       "      <th>195</th>\n",
       "      <td>48.844405</td>\n",
       "      <td>2.421913</td>\n",
       "    </tr>\n",
       "    <tr>\n",
       "      <th>196</th>\n",
       "      <td>48.844395</td>\n",
       "      <td>2.421932</td>\n",
       "    </tr>\n",
       "    <tr>\n",
       "      <th>197</th>\n",
       "      <td>48.844392</td>\n",
       "      <td>2.421938</td>\n",
       "    </tr>\n",
       "  </tbody>\n",
       "</table>\n",
       "<p>198 rows × 2 columns</p>\n",
       "</div>"
      ],
      "text/plain": [
       "           lat       lon\n",
       "0    48.861109  2.366123\n",
       "1    48.861313  2.364678\n",
       "2    48.861326  2.364594\n",
       "3    48.861389  2.364598\n",
       "4    48.861487  2.364603\n",
       "..         ...       ...\n",
       "193  48.844616  2.421484\n",
       "194  48.844464  2.421796\n",
       "195  48.844405  2.421913\n",
       "196  48.844395  2.421932\n",
       "197  48.844392  2.421938\n",
       "\n",
       "[198 rows x 2 columns]"
      ]
     },
     "execution_count": 9,
     "metadata": {},
     "output_type": "execute_result"
    }
   ],
   "source": [
    "df = pd.DataFrame(list(zip(lat,lon)), columns = ['lat','lon'])\n",
    "df"
   ]
  },
  {
   "cell_type": "code",
   "execution_count": 11,
   "metadata": {
    "ExecuteTime": {
     "end_time": "2021-11-20T22:27:15.135495Z",
     "start_time": "2021-11-20T22:27:15.126602Z"
    }
   },
   "outputs": [],
   "source": [
    "time_file = \"../data/raw/ORSRoutes/time\"\n",
    "time = pd.read_csv(time_file)"
   ]
  },
  {
   "cell_type": "code",
   "execution_count": 12,
   "metadata": {
    "ExecuteTime": {
     "end_time": "2021-11-20T22:27:16.186635Z",
     "start_time": "2021-11-20T22:27:16.179896Z"
    }
   },
   "outputs": [],
   "source": [
    "df['time'] =time"
   ]
  },
  {
   "cell_type": "code",
   "execution_count": 13,
   "metadata": {
    "ExecuteTime": {
     "end_time": "2021-11-20T22:27:16.587486Z",
     "start_time": "2021-11-20T22:27:16.581999Z"
    }
   },
   "outputs": [],
   "source": [
    "df[\"id\"] = 1"
   ]
  },
  {
   "cell_type": "code",
   "execution_count": 14,
   "metadata": {
    "ExecuteTime": {
     "end_time": "2021-11-20T22:27:17.072843Z",
     "start_time": "2021-11-20T22:27:17.052723Z"
    }
   },
   "outputs": [
    {
     "data": {
      "text/html": [
       "<div>\n",
       "<style scoped>\n",
       "    .dataframe tbody tr th:only-of-type {\n",
       "        vertical-align: middle;\n",
       "    }\n",
       "\n",
       "    .dataframe tbody tr th {\n",
       "        vertical-align: top;\n",
       "    }\n",
       "\n",
       "    .dataframe thead th {\n",
       "        text-align: right;\n",
       "    }\n",
       "</style>\n",
       "<table border=\"1\" class=\"dataframe\">\n",
       "  <thead>\n",
       "    <tr style=\"text-align: right;\">\n",
       "      <th></th>\n",
       "      <th>lat</th>\n",
       "      <th>lon</th>\n",
       "      <th>time</th>\n",
       "      <th>id</th>\n",
       "    </tr>\n",
       "  </thead>\n",
       "  <tbody>\n",
       "    <tr>\n",
       "      <th>0</th>\n",
       "      <td>48.861109</td>\n",
       "      <td>2.366123</td>\n",
       "      <td>2014-09-17 05:09:23</td>\n",
       "      <td>1</td>\n",
       "    </tr>\n",
       "    <tr>\n",
       "      <th>1</th>\n",
       "      <td>48.861313</td>\n",
       "      <td>2.364678</td>\n",
       "      <td>2014-09-17 05:09:34</td>\n",
       "      <td>1</td>\n",
       "    </tr>\n",
       "    <tr>\n",
       "      <th>2</th>\n",
       "      <td>48.861326</td>\n",
       "      <td>2.364594</td>\n",
       "      <td>2014-09-17 05:09:44</td>\n",
       "      <td>1</td>\n",
       "    </tr>\n",
       "    <tr>\n",
       "      <th>3</th>\n",
       "      <td>48.861389</td>\n",
       "      <td>2.364598</td>\n",
       "      <td>2014-09-17 05:09:55</td>\n",
       "      <td>1</td>\n",
       "    </tr>\n",
       "    <tr>\n",
       "      <th>4</th>\n",
       "      <td>48.861487</td>\n",
       "      <td>2.364603</td>\n",
       "      <td>2014-09-17 05:10:05</td>\n",
       "      <td>1</td>\n",
       "    </tr>\n",
       "    <tr>\n",
       "      <th>...</th>\n",
       "      <td>...</td>\n",
       "      <td>...</td>\n",
       "      <td>...</td>\n",
       "      <td>...</td>\n",
       "    </tr>\n",
       "    <tr>\n",
       "      <th>193</th>\n",
       "      <td>48.844616</td>\n",
       "      <td>2.421484</td>\n",
       "      <td>NaN</td>\n",
       "      <td>1</td>\n",
       "    </tr>\n",
       "    <tr>\n",
       "      <th>194</th>\n",
       "      <td>48.844464</td>\n",
       "      <td>2.421796</td>\n",
       "      <td>NaN</td>\n",
       "      <td>1</td>\n",
       "    </tr>\n",
       "    <tr>\n",
       "      <th>195</th>\n",
       "      <td>48.844405</td>\n",
       "      <td>2.421913</td>\n",
       "      <td>NaN</td>\n",
       "      <td>1</td>\n",
       "    </tr>\n",
       "    <tr>\n",
       "      <th>196</th>\n",
       "      <td>48.844395</td>\n",
       "      <td>2.421932</td>\n",
       "      <td>NaN</td>\n",
       "      <td>1</td>\n",
       "    </tr>\n",
       "    <tr>\n",
       "      <th>197</th>\n",
       "      <td>48.844392</td>\n",
       "      <td>2.421938</td>\n",
       "      <td>NaN</td>\n",
       "      <td>1</td>\n",
       "    </tr>\n",
       "  </tbody>\n",
       "</table>\n",
       "<p>198 rows × 4 columns</p>\n",
       "</div>"
      ],
      "text/plain": [
       "           lat       lon                 time  id\n",
       "0    48.861109  2.366123  2014-09-17 05:09:23   1\n",
       "1    48.861313  2.364678  2014-09-17 05:09:34   1\n",
       "2    48.861326  2.364594  2014-09-17 05:09:44   1\n",
       "3    48.861389  2.364598  2014-09-17 05:09:55   1\n",
       "4    48.861487  2.364603  2014-09-17 05:10:05   1\n",
       "..         ...       ...                  ...  ..\n",
       "193  48.844616  2.421484                  NaN   1\n",
       "194  48.844464  2.421796                  NaN   1\n",
       "195  48.844405  2.421913                  NaN   1\n",
       "196  48.844395  2.421932                  NaN   1\n",
       "197  48.844392  2.421938                  NaN   1\n",
       "\n",
       "[198 rows x 4 columns]"
      ]
     },
     "execution_count": 14,
     "metadata": {},
     "output_type": "execute_result"
    }
   ],
   "source": [
    "df"
   ]
  },
  {
   "cell_type": "code",
   "execution_count": 15,
   "metadata": {
    "ExecuteTime": {
     "end_time": "2021-11-20T22:27:20.526034Z",
     "start_time": "2021-11-20T22:27:17.771641Z"
    }
   },
   "outputs": [
    {
     "data": {
      "text/html": [
       "<iframe\n",
       "    scrolling=\"no\"\n",
       "    width=\"100%\"\n",
       "    height=\"545px\"\n",
       "    src=\"iframe_figures/figure_15.html\"\n",
       "    frameborder=\"0\"\n",
       "    allowfullscreen\n",
       "></iframe>\n"
      ]
     },
     "metadata": {},
     "output_type": "display_data"
    }
   ],
   "source": [
    "#affichier les points GPS sur une carte\n",
    "px.set_mapbox_access_token(\"pk.eyJ1Ijoic2hha2Fzb20iLCJhIjoiY2plMWg1NGFpMXZ5NjJxbjhlM2ttN3AwbiJ9.RtGYHmreKiyBfHuElgYq_w\")\n",
    "import plotly.express as px\n",
    "fig = px.scatter_mapbox(\n",
    "        df, \n",
    "        lat=\"lat\", \n",
    "        lon=\"lon\",\n",
    "        \n",
    "        mapbox_style=\"carto-positron\"\n",
    ")\n",
    "\n",
    "fig.show(renderer=\"iframe\")"
   ]
  },
  {
   "cell_type": "code",
   "execution_count": 16,
   "metadata": {
    "ExecuteTime": {
     "end_time": "2021-11-20T14:47:26.542290Z",
     "start_time": "2021-11-20T14:47:25.590745Z"
    }
   },
   "outputs": [
    {
     "data": {
      "text/html": [
       "<iframe\n",
       "    scrolling=\"no\"\n",
       "    width=\"1220px\"\n",
       "    height=\"820\"\n",
       "    src=\"iframe_figures/figure_16.html\"\n",
       "    frameborder=\"0\"\n",
       "    allowfullscreen\n",
       "></iframe>\n"
      ]
     },
     "metadata": {},
     "output_type": "display_data"
    }
   ],
   "source": [
    "fig_3 = px.scatter_mapbox(\n",
    "    df, \n",
    "    lat=\"lat\", \n",
    "    lon=\"lon\", \n",
    "    color=\"id\", \n",
    "    size=\"id\", \n",
    "    animation_frame=\"time\", \n",
    "    size_max=10, \n",
    "    zoom=12, \n",
    "    width=1200, \n",
    "    height=800\n",
    ")\n",
    "fig_3.show(renderer=\"iframe\")"
   ]
  },
  {
   "cell_type": "code",
   "execution_count": null,
   "metadata": {},
   "outputs": [],
   "source": []
  }
 ],
 "metadata": {
  "kernelspec": {
   "display_name": "env",
   "language": "python",
   "name": "env"
  },
  "language_info": {
   "codemirror_mode": {
    "name": "ipython",
    "version": 3
   },
   "file_extension": ".py",
   "mimetype": "text/x-python",
   "name": "python",
   "nbconvert_exporter": "python",
   "pygments_lexer": "ipython3",
   "version": "3.8.3"
  },
  "toc": {
   "base_numbering": 1,
   "nav_menu": {},
   "number_sections": true,
   "sideBar": true,
   "skip_h1_title": false,
   "title_cell": "Table of Contents",
   "title_sidebar": "Contents",
   "toc_cell": false,
   "toc_position": {},
   "toc_section_display": true,
   "toc_window_display": false
  }
 },
 "nbformat": 4,
 "nbformat_minor": 4
}
