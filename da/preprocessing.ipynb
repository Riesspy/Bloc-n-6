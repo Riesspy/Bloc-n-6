{
 "cells": [
  {
   "cell_type": "markdown",
   "metadata": {},
   "source": [
    "# 2R - da : Preprocessing\n",
    "**da** represents all step about data analysis. \n",
    "So it's about `data acquisition`, `data preprocessing` and `data visualization`."
   ]
  },
  {
   "cell_type": "markdown",
   "metadata": {},
   "source": [
    "### Purpose \n",
    "Clean dataset and export it for data-viz and data science."
   ]
  },
  {
   "cell_type": "markdown",
   "metadata": {},
   "source": [
    "### Preprocessing workflow"
   ]
  },
  {
   "cell_type": "code",
   "execution_count": 20,
   "metadata": {},
   "outputs": [],
   "source": [
    "# import\n",
    "import os\n",
    "import numpy as np\n",
    "import pandas as pd\n",
    "from sklearn import metrics\n",
    "from IPython.display import display"
   ]
  },
  {
   "cell_type": "markdown",
   "metadata": {},
   "source": [
    "#### Explore dataset"
   ]
  },
  {
   "cell_type": "code",
   "execution_count": 21,
   "metadata": {},
   "outputs": [],
   "source": [
    "# dataset files : lieux-2019, usagers-2019, vehicules-2019, caracteristiques-2019\n",
    "lieux_csv = \"../ds/data/raw/lieux-2019.csv\"\n",
    "usagers_csv = \"../ds/data/raw/usagers-2019.csv\"\n",
    "vehicules_csv = \"../ds/data/raw/vehicules-2019.csv\"\n",
    "carac_csv = \"../ds/data/raw/caracteristiques-2019.csv\""
   ]
  },
  {
   "cell_type": "code",
   "execution_count": 22,
   "metadata": {},
   "outputs": [],
   "source": [
    "#exploratory fucntion\n",
    "def explore_dataset(dataset_file:str, log:bool = False) -> pd.DataFrame:\n",
    "    \"\"\" explore dataset \n",
    "\n",
    "    Args : \n",
    "        - dataset_file (Str) : relative or absolute path of dataset file.\n",
    "    \n",
    "    return : \n",
    "        data (Dataframe)\n",
    "    \"\"\"\n",
    "\n",
    "    # read dataset_file\n",
    "    data_df = pd.read_csv(dataset_file,sep=';')\n",
    "    \n",
    "    # log\n",
    "    if log : \n",
    "        # display head\n",
    "        print(\"Dataset head :\")\n",
    "        display(data_df.head())\n",
    "\n",
    "        # display shape\n",
    "        print(\"Dataset shape :\")\n",
    "        display(data_df.shape)\n",
    "\n",
    "        # display columns\n",
    "        print(\"Dataset columns :\")\n",
    "        display(data_df.columns)\n",
    "\n",
    "        # display dtype\n",
    "        print(\"Dataset types :\")\n",
    "        display(data_df.dtypes)\n",
    "\n",
    "    return data_df "
   ]
  },
  {
   "cell_type": "code",
   "execution_count": 23,
   "metadata": {},
   "outputs": [],
   "source": [
    "# lieux\n",
    "lieux_df = explore_dataset(lieux_csv)\n",
    "\n",
    "# usagers\n",
    "usagers_df = explore_dataset(usagers_csv)\n",
    "\n",
    "# vehicules\n",
    "vehicules_df = explore_dataset(vehicules_csv)\n",
    "\n",
    "# caracteristiues (carac)\n",
    "carac_df = explore_dataset(carac_csv)"
   ]
  },
  {
   "cell_type": "markdown",
   "metadata": {},
   "source": [
    "#### Merge dataset"
   ]
  },
  {
   "cell_type": "code",
   "execution_count": 24,
   "metadata": {},
   "outputs": [
    {
     "data": {
      "text/plain": [
       "Index(['Num_Acc', 'id_vehicule', 'num_veh', 'senc', 'catv', 'obs', 'obsm',\n",
       "       'choc', 'manv', 'motor', 'occutc', 'jour', 'mois', 'an', 'hrmn', 'lum',\n",
       "       'dep', 'com', 'agg', 'int', 'atm', 'col', 'adr', 'lat', 'long'],\n",
       "      dtype='object')"
      ]
     },
     "execution_count": 24,
     "metadata": {},
     "output_type": "execute_result"
    }
   ],
   "source": [
    "# merge dataset via 'Num_Acc' \n",
    "accidents_df = pd.merge(vehicules_df, carac_df, on = 'Num_Acc')\n",
    "accidents_df.columns"
   ]
  },
  {
   "cell_type": "code",
   "execution_count": 25,
   "metadata": {},
   "outputs": [
    {
     "data": {
      "text/html": [
       "<div>\n",
       "<style scoped>\n",
       "    .dataframe tbody tr th:only-of-type {\n",
       "        vertical-align: middle;\n",
       "    }\n",
       "\n",
       "    .dataframe tbody tr th {\n",
       "        vertical-align: top;\n",
       "    }\n",
       "\n",
       "    .dataframe thead th {\n",
       "        text-align: right;\n",
       "    }\n",
       "</style>\n",
       "<table border=\"1\" class=\"dataframe\">\n",
       "  <thead>\n",
       "    <tr style=\"text-align: right;\">\n",
       "      <th></th>\n",
       "      <th>Num_Acc</th>\n",
       "      <th>id_vehicule</th>\n",
       "      <th>num_veh</th>\n",
       "      <th>senc</th>\n",
       "      <th>catv</th>\n",
       "      <th>obs</th>\n",
       "      <th>obsm</th>\n",
       "      <th>choc</th>\n",
       "      <th>manv</th>\n",
       "      <th>motor</th>\n",
       "      <th>...</th>\n",
       "      <th>lum</th>\n",
       "      <th>dep</th>\n",
       "      <th>com</th>\n",
       "      <th>agg</th>\n",
       "      <th>int</th>\n",
       "      <th>atm</th>\n",
       "      <th>col</th>\n",
       "      <th>adr</th>\n",
       "      <th>lat</th>\n",
       "      <th>long</th>\n",
       "    </tr>\n",
       "  </thead>\n",
       "  <tbody>\n",
       "    <tr>\n",
       "      <th>0</th>\n",
       "      <td>201900000001</td>\n",
       "      <td>138 306 524</td>\n",
       "      <td>B01</td>\n",
       "      <td>2</td>\n",
       "      <td>7</td>\n",
       "      <td>0</td>\n",
       "      <td>2</td>\n",
       "      <td>5</td>\n",
       "      <td>23</td>\n",
       "      <td>1</td>\n",
       "      <td>...</td>\n",
       "      <td>4</td>\n",
       "      <td>93</td>\n",
       "      <td>93053</td>\n",
       "      <td>1</td>\n",
       "      <td>1</td>\n",
       "      <td>1</td>\n",
       "      <td>2</td>\n",
       "      <td>AUTOROUTE A3</td>\n",
       "      <td>48,8962100</td>\n",
       "      <td>2,4701200</td>\n",
       "    </tr>\n",
       "    <tr>\n",
       "      <th>1</th>\n",
       "      <td>201900000001</td>\n",
       "      <td>138 306 525</td>\n",
       "      <td>A01</td>\n",
       "      <td>2</td>\n",
       "      <td>17</td>\n",
       "      <td>1</td>\n",
       "      <td>0</td>\n",
       "      <td>3</td>\n",
       "      <td>11</td>\n",
       "      <td>1</td>\n",
       "      <td>...</td>\n",
       "      <td>4</td>\n",
       "      <td>93</td>\n",
       "      <td>93053</td>\n",
       "      <td>1</td>\n",
       "      <td>1</td>\n",
       "      <td>1</td>\n",
       "      <td>2</td>\n",
       "      <td>AUTOROUTE A3</td>\n",
       "      <td>48,8962100</td>\n",
       "      <td>2,4701200</td>\n",
       "    </tr>\n",
       "    <tr>\n",
       "      <th>2</th>\n",
       "      <td>201900000002</td>\n",
       "      <td>138 306 523</td>\n",
       "      <td>A01</td>\n",
       "      <td>1</td>\n",
       "      <td>7</td>\n",
       "      <td>4</td>\n",
       "      <td>0</td>\n",
       "      <td>1</td>\n",
       "      <td>0</td>\n",
       "      <td>1</td>\n",
       "      <td>...</td>\n",
       "      <td>3</td>\n",
       "      <td>93</td>\n",
       "      <td>93066</td>\n",
       "      <td>1</td>\n",
       "      <td>1</td>\n",
       "      <td>1</td>\n",
       "      <td>6</td>\n",
       "      <td>AUTOROUTE A1</td>\n",
       "      <td>48,9307000</td>\n",
       "      <td>2,3688000</td>\n",
       "    </tr>\n",
       "    <tr>\n",
       "      <th>3</th>\n",
       "      <td>201900000003</td>\n",
       "      <td>138 306 520</td>\n",
       "      <td>A01</td>\n",
       "      <td>1</td>\n",
       "      <td>7</td>\n",
       "      <td>0</td>\n",
       "      <td>2</td>\n",
       "      <td>1</td>\n",
       "      <td>2</td>\n",
       "      <td>1</td>\n",
       "      <td>...</td>\n",
       "      <td>1</td>\n",
       "      <td>92</td>\n",
       "      <td>92036</td>\n",
       "      <td>1</td>\n",
       "      <td>1</td>\n",
       "      <td>1</td>\n",
       "      <td>4</td>\n",
       "      <td>AUTOROUTE A86</td>\n",
       "      <td>48,9358718</td>\n",
       "      <td>2,3191744</td>\n",
       "    </tr>\n",
       "    <tr>\n",
       "      <th>4</th>\n",
       "      <td>201900000003</td>\n",
       "      <td>138 306 521</td>\n",
       "      <td>B01</td>\n",
       "      <td>1</td>\n",
       "      <td>7</td>\n",
       "      <td>1</td>\n",
       "      <td>0</td>\n",
       "      <td>4</td>\n",
       "      <td>2</td>\n",
       "      <td>1</td>\n",
       "      <td>...</td>\n",
       "      <td>1</td>\n",
       "      <td>92</td>\n",
       "      <td>92036</td>\n",
       "      <td>1</td>\n",
       "      <td>1</td>\n",
       "      <td>1</td>\n",
       "      <td>4</td>\n",
       "      <td>AUTOROUTE A86</td>\n",
       "      <td>48,9358718</td>\n",
       "      <td>2,3191744</td>\n",
       "    </tr>\n",
       "  </tbody>\n",
       "</table>\n",
       "<p>5 rows × 25 columns</p>\n",
       "</div>"
      ],
      "text/plain": [
       "        Num_Acc  id_vehicule num_veh  senc  catv  obs  obsm  choc  manv  \\\n",
       "0  201900000001  138 306 524     B01     2     7    0     2     5    23   \n",
       "1  201900000001  138 306 525     A01     2    17    1     0     3    11   \n",
       "2  201900000002  138 306 523     A01     1     7    4     0     1     0   \n",
       "3  201900000003  138 306 520     A01     1     7    0     2     1     2   \n",
       "4  201900000003  138 306 521     B01     1     7    1     0     4     2   \n",
       "\n",
       "   motor  ...  lum  dep    com  agg int  atm col            adr         lat  \\\n",
       "0      1  ...    4   93  93053    1   1    1   2   AUTOROUTE A3  48,8962100   \n",
       "1      1  ...    4   93  93053    1   1    1   2   AUTOROUTE A3  48,8962100   \n",
       "2      1  ...    3   93  93066    1   1    1   6   AUTOROUTE A1  48,9307000   \n",
       "3      1  ...    1   92  92036    1   1    1   4  AUTOROUTE A86  48,9358718   \n",
       "4      1  ...    1   92  92036    1   1    1   4  AUTOROUTE A86  48,9358718   \n",
       "\n",
       "        long  \n",
       "0  2,4701200  \n",
       "1  2,4701200  \n",
       "2  2,3688000  \n",
       "3  2,3191744  \n",
       "4  2,3191744  \n",
       "\n",
       "[5 rows x 25 columns]"
      ]
     },
     "execution_count": 25,
     "metadata": {},
     "output_type": "execute_result"
    }
   ],
   "source": [
    "accidents_df.head()"
   ]
  },
  {
   "cell_type": "code",
   "execution_count": 26,
   "metadata": {},
   "outputs": [
    {
     "data": {
      "text/plain": [
       "75     9619\n",
       "93     5660\n",
       "13     5512\n",
       "94     4853\n",
       "69     4324\n",
       "       ... \n",
       "90       80\n",
       "978      67\n",
       "977      24\n",
       "986      14\n",
       "975       5\n",
       "Name: dep, Length: 107, dtype: int64"
      ]
     },
     "execution_count": 26,
     "metadata": {},
     "output_type": "execute_result"
    }
   ],
   "source": [
    "accidents_df.dep.value_counts()"
   ]
  },
  {
   "cell_type": "markdown",
   "metadata": {},
   "source": [
    "#### Reduce dataset to doi & coi"
   ]
  },
  {
   "cell_type": "code",
   "execution_count": 27,
   "metadata": {},
   "outputs": [],
   "source": [
    "# department of interest : 75\n",
    "# doi : department of intrest\n",
    "doi = \"75\"\n",
    "\n",
    "# mask_doi\n",
    "mask_doi = accidents_df[\"dep\"] == doi\n",
    "\n",
    "# dataframe\n",
    "accidents_doi_df = accidents_df[mask_doi]"
   ]
  },
  {
   "cell_type": "code",
   "execution_count": 28,
   "metadata": {},
   "outputs": [
    {
     "data": {
      "text/plain": [
       "Index(['Num_Acc', 'id_vehicule', 'num_veh', 'senc', 'catv', 'obs', 'obsm',\n",
       "       'choc', 'manv', 'motor', 'occutc', 'jour', 'mois', 'an', 'hrmn', 'lum',\n",
       "       'dep', 'com', 'agg', 'int', 'atm', 'col', 'adr', 'lat', 'long'],\n",
       "      dtype='object')"
      ]
     },
     "execution_count": 28,
     "metadata": {},
     "output_type": "execute_result"
    }
   ],
   "source": [
    "accidents_doi_df.columns"
   ]
  },
  {
   "cell_type": "code",
   "execution_count": 29,
   "metadata": {},
   "outputs": [
    {
     "data": {
      "text/plain": [
       "[33, 1, 30, 32, 31, 50, 43, 2, 34, 80, 60, 42, 41]"
      ]
     },
     "metadata": {},
     "output_type": "display_data"
    },
    {
     "data": {
      "text/html": [
       "<div>\n",
       "<style scoped>\n",
       "    .dataframe tbody tr th:only-of-type {\n",
       "        vertical-align: middle;\n",
       "    }\n",
       "\n",
       "    .dataframe tbody tr th {\n",
       "        vertical-align: top;\n",
       "    }\n",
       "\n",
       "    .dataframe thead th {\n",
       "        text-align: right;\n",
       "    }\n",
       "</style>\n",
       "<table border=\"1\" class=\"dataframe\">\n",
       "  <thead>\n",
       "    <tr style=\"text-align: right;\">\n",
       "      <th></th>\n",
       "      <th>Num_Acc</th>\n",
       "      <th>id_vehicule</th>\n",
       "      <th>num_veh</th>\n",
       "      <th>senc</th>\n",
       "      <th>catv</th>\n",
       "      <th>obs</th>\n",
       "      <th>obsm</th>\n",
       "      <th>choc</th>\n",
       "      <th>manv</th>\n",
       "      <th>motor</th>\n",
       "      <th>...</th>\n",
       "      <th>lum</th>\n",
       "      <th>dep</th>\n",
       "      <th>com</th>\n",
       "      <th>agg</th>\n",
       "      <th>int</th>\n",
       "      <th>atm</th>\n",
       "      <th>col</th>\n",
       "      <th>adr</th>\n",
       "      <th>lat</th>\n",
       "      <th>long</th>\n",
       "    </tr>\n",
       "  </thead>\n",
       "  <tbody>\n",
       "    <tr>\n",
       "      <th>787</th>\n",
       "      <td>201900000473</td>\n",
       "      <td>138 305 661</td>\n",
       "      <td>B01</td>\n",
       "      <td>2</td>\n",
       "      <td>33</td>\n",
       "      <td>0</td>\n",
       "      <td>2</td>\n",
       "      <td>3</td>\n",
       "      <td>18</td>\n",
       "      <td>1</td>\n",
       "      <td>...</td>\n",
       "      <td>5</td>\n",
       "      <td>75</td>\n",
       "      <td>75117</td>\n",
       "      <td>2</td>\n",
       "      <td>4</td>\n",
       "      <td>1</td>\n",
       "      <td>3</td>\n",
       "      <td>BD PERIPHEDIQUE EXTERIEUR</td>\n",
       "      <td>48,8830744</td>\n",
       "      <td>2,2837066</td>\n",
       "    </tr>\n",
       "    <tr>\n",
       "      <th>789</th>\n",
       "      <td>201900000474</td>\n",
       "      <td>138 305 659</td>\n",
       "      <td>A01</td>\n",
       "      <td>1</td>\n",
       "      <td>33</td>\n",
       "      <td>0</td>\n",
       "      <td>2</td>\n",
       "      <td>3</td>\n",
       "      <td>1</td>\n",
       "      <td>1</td>\n",
       "      <td>...</td>\n",
       "      <td>5</td>\n",
       "      <td>75</td>\n",
       "      <td>75120</td>\n",
       "      <td>2</td>\n",
       "      <td>2</td>\n",
       "      <td>1</td>\n",
       "      <td>3</td>\n",
       "      <td>COURS DE VINCENNES</td>\n",
       "      <td>48,8470484</td>\n",
       "      <td>2,4110571</td>\n",
       "    </tr>\n",
       "  </tbody>\n",
       "</table>\n",
       "<p>2 rows × 25 columns</p>\n",
       "</div>"
      ],
      "text/plain": [
       "          Num_Acc  id_vehicule num_veh  senc  catv  obs  obsm  choc  manv  \\\n",
       "787  201900000473  138 305 661     B01     2    33    0     2     3    18   \n",
       "789  201900000474  138 305 659     A01     1    33    0     2     3     1   \n",
       "\n",
       "     motor  ...  lum  dep    com  agg int  atm col                        adr  \\\n",
       "787      1  ...    5   75  75117    2   4    1   3  BD PERIPHEDIQUE EXTERIEUR   \n",
       "789      1  ...    5   75  75120    2   2    1   3         COURS DE VINCENNES   \n",
       "\n",
       "            lat       long  \n",
       "787  48,8830744  2,2837066  \n",
       "789  48,8470484  2,4110571  \n",
       "\n",
       "[2 rows x 25 columns]"
      ]
     },
     "metadata": {},
     "output_type": "display_data"
    }
   ],
   "source": [
    "# category of interest : 2R\n",
    "# coi : categories of interest\n",
    "coi = [1,2,30,31,32,33,34,41,42,43,50,60,80]\n",
    "\n",
    "# mask coi\n",
    "mask_coi = accidents_doi_df.catv.isin(coi)\n",
    "\n",
    "# dataframe\n",
    "accidents_doi_coi_df = accidents_doi_df[mask_coi]\n",
    "\n",
    "# display columns\n",
    "display(accidents_doi_coi_df.catv.value_counts().index.to_list())\n",
    "\n",
    "# head\n",
    "display(accidents_doi_coi_df.head(2))\n"
   ]
  },
  {
   "cell_type": "markdown",
   "metadata": {},
   "source": [
    "#### Clean final dataset"
   ]
  },
  {
   "cell_type": "code",
   "execution_count": 30,
   "metadata": {},
   "outputs": [
    {
     "data": {
      "text/plain": [
       "Index(['Num_Acc', 'id_vehicule', 'num_veh', 'senc', 'catv', 'obs', 'obsm',\n",
       "       'choc', 'manv', 'motor', 'occutc', 'jour', 'mois', 'an', 'hrmn', 'lum',\n",
       "       'dep', 'com', 'agg', 'int', 'atm', 'col', 'adr', 'lat', 'long'],\n",
       "      dtype='object')"
      ]
     },
     "execution_count": 30,
     "metadata": {},
     "output_type": "execute_result"
    }
   ],
   "source": [
    "dataset = accidents_doi_coi_df.copy()\n",
    "dataset.columns"
   ]
  },
  {
   "cell_type": "code",
   "execution_count": 31,
   "metadata": {},
   "outputs": [],
   "source": [
    "# rename columns"
   ]
  },
  {
   "cell_type": "code",
   "execution_count": 32,
   "metadata": {},
   "outputs": [],
   "source": [
    "# lat & lon \n",
    "dataset[\"lat\"] = dataset[\"lat\"].apply(lambda x : x.replace(\",\",\".\"))\n",
    "dataset[\"long\"] = dataset[\"long\"].apply(lambda x : x.replace(\",\",\".\"))\n",
    "\n",
    "# change lat & lon dtype\n",
    "dataset = dataset.astype({'lat': 'float', 'long':'float'})"
   ]
  },
  {
   "cell_type": "code",
   "execution_count": 33,
   "metadata": {},
   "outputs": [],
   "source": [
    "# reset_index\n",
    "dataset = dataset.reset_index(drop=True)"
   ]
  },
  {
   "cell_type": "code",
   "execution_count": 34,
   "metadata": {},
   "outputs": [
    {
     "name": "stdout",
     "output_type": "stream",
     "text": [
      "<class 'pandas.core.frame.DataFrame'>\n",
      "RangeIndex: 4480 entries, 0 to 4479\n",
      "Data columns (total 25 columns):\n",
      " #   Column       Non-Null Count  Dtype  \n",
      "---  ------       --------------  -----  \n",
      " 0   Num_Acc      4480 non-null   int64  \n",
      " 1   id_vehicule  4480 non-null   object \n",
      " 2   num_veh      4480 non-null   object \n",
      " 3   senc         4480 non-null   int64  \n",
      " 4   catv         4480 non-null   int64  \n",
      " 5   obs          4480 non-null   int64  \n",
      " 6   obsm         4480 non-null   int64  \n",
      " 7   choc         4480 non-null   int64  \n",
      " 8   manv         4480 non-null   int64  \n",
      " 9   motor        4480 non-null   int64  \n",
      " 10  occutc       0 non-null      float64\n",
      " 11  jour         4480 non-null   int64  \n",
      " 12  mois         4480 non-null   int64  \n",
      " 13  an           4480 non-null   int64  \n",
      " 14  hrmn         4480 non-null   object \n",
      " 15  lum          4480 non-null   int64  \n",
      " 16  dep          4480 non-null   object \n",
      " 17  com          4480 non-null   object \n",
      " 18  agg          4480 non-null   int64  \n",
      " 19  int          4480 non-null   int64  \n",
      " 20  atm          4480 non-null   int64  \n",
      " 21  col          4480 non-null   int64  \n",
      " 22  adr          4479 non-null   object \n",
      " 23  lat          4480 non-null   float64\n",
      " 24  long         4480 non-null   float64\n",
      "dtypes: float64(3), int64(16), object(6)\n",
      "memory usage: 875.1+ KB\n"
     ]
    }
   ],
   "source": [
    "# info final dataset\n",
    "dataset.info()"
   ]
  },
  {
   "cell_type": "code",
   "execution_count": 35,
   "metadata": {},
   "outputs": [
    {
     "name": "stdout",
     "output_type": "stream",
     "text": [
      "../db/shared/accidents_2R_75.csv exported !\n"
     ]
    }
   ],
   "source": [
    "# export dataset\n",
    "overwrite = True\n",
    "dataset_csv = \"../db/shared/accidents_2R_75.csv\"\n",
    "\n",
    "if not os.path.exists(dataset_csv) or overwrite==True :\n",
    "    dataset.to_csv(dataset_csv)\n",
    "    print(f\"{dataset_csv} exported !\")\n",
    "\n",
    "else : \n",
    "    print(f\"{dataset_csv} exists !\")"
   ]
  }
 ],
 "metadata": {
  "interpreter": {
   "hash": "982905b65b5f75b92a9ba9d4e9278911d600b6ec40333eb59f4e1881aba0ac28"
  },
  "kernelspec": {
   "display_name": "Python 3.8.3 64-bit ('env': venv)",
   "language": "python",
   "name": "python3"
  },
  "language_info": {
   "codemirror_mode": {
    "name": "ipython",
    "version": 3
   },
   "file_extension": ".py",
   "mimetype": "text/x-python",
   "name": "python",
   "nbconvert_exporter": "python",
   "pygments_lexer": "ipython3",
   "version": "3.8.3"
  },
  "orig_nbformat": 4
 },
 "nbformat": 4,
 "nbformat_minor": 2
}
